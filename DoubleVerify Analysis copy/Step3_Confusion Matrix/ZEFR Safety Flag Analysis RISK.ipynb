{
 "cells": [
  {
   "cell_type": "code",
   "execution_count": 63,
   "id": "93f44c89-f192-440b-93c8-8e858bab6969",
   "metadata": {},
   "outputs": [],
   "source": [
    "import pandas as pd\n",
    "import re"
   ]
  },
  {
   "cell_type": "code",
   "execution_count": 84,
   "id": "adeb2c73-c4e1-4d29-92ad-a60cc5e11962",
   "metadata": {},
   "outputs": [],
   "source": [
    "# pulling from pickle file created in Step 1\n",
    "df = pd.read_pickle('/Users/onb/Documents/Analysis/DoubleVerify Analysis/Data/Safety Flag/ZEFR_Safety_Flag_Risk_Data.pkl')"
   ]
  },
  {
   "cell_type": "code",
   "execution_count": 65,
   "id": "d90eb362-1a3f-4b0f-b6dd-1d105c13ac39",
   "metadata": {},
   "outputs": [
    {
     "data": {
      "text/html": [
       "<div>\n",
       "<style scoped>\n",
       "    .dataframe tbody tr th:only-of-type {\n",
       "        vertical-align: middle;\n",
       "    }\n",
       "\n",
       "    .dataframe tbody tr th {\n",
       "        vertical-align: top;\n",
       "    }\n",
       "\n",
       "    .dataframe thead th {\n",
       "        text-align: right;\n",
       "    }\n",
       "</style>\n",
       "<table border=\"1\" class=\"dataframe\">\n",
       "  <thead>\n",
       "    <tr style=\"text-align: right;\">\n",
       "      <th></th>\n",
       "      <th>CHANNEL_ID</th>\n",
       "      <th>VIDEO_ID</th>\n",
       "      <th>SUITABILITY_CATEGORY</th>\n",
       "      <th>TAXONOMY_NAME</th>\n",
       "      <th>SCORE</th>\n",
       "      <th>DECISION</th>\n",
       "      <th>DV_RISK</th>\n",
       "      <th>vector1</th>\n",
       "      <th>vector2</th>\n",
       "      <th>simscore</th>\n",
       "    </tr>\n",
       "  </thead>\n",
       "  <tbody>\n",
       "    <tr>\n",
       "      <th>0</th>\n",
       "      <td>UChxJPnZ0x9I8iYrm4jjuo0w</td>\n",
       "      <td>c1AGFOjKDbM</td>\n",
       "      <td>Religion &amp; Spirituality</td>\n",
       "      <td>4A - Terrorism - [High]</td>\n",
       "      <td>0.000000</td>\n",
       "      <td>False</td>\n",
       "      <td>Minimal</td>\n",
       "      <td>{'Religion': 1, 'Spirituality': 1}</td>\n",
       "      <td>{'4A': 1, 'Terrorism': 1, 'High': 1}</td>\n",
       "      <td>0.0</td>\n",
       "    </tr>\n",
       "    <tr>\n",
       "      <th>4</th>\n",
       "      <td>UCwADl1l8G7IQxasyu43yi1A</td>\n",
       "      <td>9MLp5gi59dM</td>\n",
       "      <td>Celebrity Gossip</td>\n",
       "      <td>Brand Safety - Crime - V1</td>\n",
       "      <td>0.043045</td>\n",
       "      <td>None</td>\n",
       "      <td>Minimal</td>\n",
       "      <td>{'Celebrity': 1, 'Gossip': 1}</td>\n",
       "      <td>{'Brand': 1, 'Safety': 1, 'Crime': 1, 'V1': 1}</td>\n",
       "      <td>0.0</td>\n",
       "    </tr>\n",
       "    <tr>\n",
       "      <th>11</th>\n",
       "      <td>UC2c6FqF4olAZ7LodVEUueNQ</td>\n",
       "      <td>XHNZn7A4mcY</td>\n",
       "      <td>Family &amp; Parenting: Kids Content</td>\n",
       "      <td>4A - Death &amp; Injury - [Medium]</td>\n",
       "      <td>0.000000</td>\n",
       "      <td>False</td>\n",
       "      <td>Minimal</td>\n",
       "      <td>{'Family': 1, 'Parenting': 1, 'Kids': 1, 'Cont...</td>\n",
       "      <td>{'4A': 1, 'Death': 1, 'Injury': 1, 'Medium': 1}</td>\n",
       "      <td>0.0</td>\n",
       "    </tr>\n",
       "    <tr>\n",
       "      <th>13</th>\n",
       "      <td>UCvRAX-ujvZ0eTMLGG2vki9w</td>\n",
       "      <td>zpp9fkHTzis</td>\n",
       "      <td>Law, Gov't &amp; Politics: Politics</td>\n",
       "      <td>Japanese Brand Safety - V1</td>\n",
       "      <td>0.134686</td>\n",
       "      <td>True</td>\n",
       "      <td>Minimal</td>\n",
       "      <td>{'Law': 1, 'Gov': 1, 't': 1, 'Politics': 2}</td>\n",
       "      <td>{'Japanese': 1, 'Brand': 1, 'Safety': 1, 'V1': 1}</td>\n",
       "      <td>0.0</td>\n",
       "    </tr>\n",
       "    <tr>\n",
       "      <th>15</th>\n",
       "      <td>UCJQXB7cxKeHGaMRig179adg</td>\n",
       "      <td>8yC0jpwUoeQ</td>\n",
       "      <td>Celebrity Gossip</td>\n",
       "      <td>4A - Social Issues - [High]</td>\n",
       "      <td>0.000000</td>\n",
       "      <td>False</td>\n",
       "      <td>Minimal</td>\n",
       "      <td>{'Celebrity': 1, 'Gossip': 1}</td>\n",
       "      <td>{'4A': 1, 'Social': 1, 'Issues': 1, 'High': 1}</td>\n",
       "      <td>0.0</td>\n",
       "    </tr>\n",
       "  </tbody>\n",
       "</table>\n",
       "</div>"
      ],
      "text/plain": [
       "                  CHANNEL_ID     VIDEO_ID              SUITABILITY_CATEGORY  \\\n",
       "0   UChxJPnZ0x9I8iYrm4jjuo0w  c1AGFOjKDbM           Religion & Spirituality   \n",
       "4   UCwADl1l8G7IQxasyu43yi1A  9MLp5gi59dM                  Celebrity Gossip   \n",
       "11  UC2c6FqF4olAZ7LodVEUueNQ  XHNZn7A4mcY  Family & Parenting: Kids Content   \n",
       "13  UCvRAX-ujvZ0eTMLGG2vki9w  zpp9fkHTzis   Law, Gov't & Politics: Politics   \n",
       "15  UCJQXB7cxKeHGaMRig179adg  8yC0jpwUoeQ                  Celebrity Gossip   \n",
       "\n",
       "                     TAXONOMY_NAME     SCORE DECISION  DV_RISK  \\\n",
       "0          4A - Terrorism - [High]  0.000000    False  Minimal   \n",
       "4        Brand Safety - Crime - V1  0.043045     None  Minimal   \n",
       "11  4A - Death & Injury - [Medium]  0.000000    False  Minimal   \n",
       "13      Japanese Brand Safety - V1  0.134686     True  Minimal   \n",
       "15     4A - Social Issues - [High]  0.000000    False  Minimal   \n",
       "\n",
       "                                              vector1  \\\n",
       "0                  {'Religion': 1, 'Spirituality': 1}   \n",
       "4                       {'Celebrity': 1, 'Gossip': 1}   \n",
       "11  {'Family': 1, 'Parenting': 1, 'Kids': 1, 'Cont...   \n",
       "13        {'Law': 1, 'Gov': 1, 't': 1, 'Politics': 2}   \n",
       "15                      {'Celebrity': 1, 'Gossip': 1}   \n",
       "\n",
       "                                              vector2  simscore  \n",
       "0                {'4A': 1, 'Terrorism': 1, 'High': 1}       0.0  \n",
       "4      {'Brand': 1, 'Safety': 1, 'Crime': 1, 'V1': 1}       0.0  \n",
       "11    {'4A': 1, 'Death': 1, 'Injury': 1, 'Medium': 1}       0.0  \n",
       "13  {'Japanese': 1, 'Brand': 1, 'Safety': 1, 'V1': 1}       0.0  \n",
       "15     {'4A': 1, 'Social': 1, 'Issues': 1, 'High': 1}       0.0  "
      ]
     },
     "execution_count": 65,
     "metadata": {},
     "output_type": "execute_result"
    }
   ],
   "source": [
    "df.head()"
   ]
  },
  {
   "cell_type": "code",
   "execution_count": 66,
   "id": "ea03fa83-5dbf-4f1f-93f7-2a892918170d",
   "metadata": {},
   "outputs": [],
   "source": [
    "df.drop(['vector1','vector2'], axis = 1, inplace = True)"
   ]
  },
  {
   "cell_type": "code",
   "execution_count": 67,
   "id": "6c0b15e2-de33-40bb-8acf-1ea65636ca14",
   "metadata": {},
   "outputs": [],
   "source": [
    "concepts = []\n",
    "\n",
    "for txt in df['TAXONOMY_NAME']:\n",
    "    if '4A' in txt:\n",
    "        result =  re.search('- (.*) -', txt)\n",
    "        concepts.append(result.group(1))\n",
    "    else:\n",
    "        concepts.append(txt)\n",
    "        \n",
    "df['CONCEPTS'] = concepts"
   ]
  },
  {
   "cell_type": "code",
   "execution_count": 68,
   "id": "9f028f28-28fc-40a6-b86c-c04b80a1e92d",
   "metadata": {},
   "outputs": [],
   "source": [
    "ZEFR_RISK = []\n",
    "\n",
    "for txt in df['TAXONOMY_NAME']:\n",
    "    if 'Minimal' in txt:\n",
    "        ZEFR_RISK.append('Minimal')\n",
    "    elif 'Low' in txt:\n",
    "        ZEFR_RISK.append('Low')\n",
    "    elif 'Medium' in txt:\n",
    "        ZEFR_RISK.append('Medium')\n",
    "    elif 'High' in txt:\n",
    "        ZEFR_RISK.append('High')\n",
    "    else:\n",
    "        ZEFR_RISK.append('No GARM')\n",
    "        \n",
    "df['ZEFR_RISK'] = ZEFR_RISK"
   ]
  },
  {
   "cell_type": "code",
   "execution_count": 69,
   "id": "b177471d-e0d2-4e18-844d-18081cfad4f9",
   "metadata": {},
   "outputs": [],
   "source": [
    "same_risk = []\n",
    "\n",
    "for i,v in enumerate(df['TAXONOMY_NAME']):\n",
    "    if 'Minimal' in df['DV_RISK'].iloc[i] and 'Minimal' in v:\n",
    "        same_risk.append(1)\n",
    "    elif 'Low' in df['DV_RISK'].iloc[i] and 'Low' in v:\n",
    "        same_risk.append(1)  \n",
    "    elif 'Medium' in df['DV_RISK'].iloc[i] and 'Medium' in v:\n",
    "        same_risk.append(1) \n",
    "    elif 'High' in df['DV_RISK'].iloc[i] and 'High' in v or 'Floor' in v:\n",
    "        same_risk.append(1) \n",
    "    else:\n",
    "        same_risk.append(0)"
   ]
  },
  {
   "cell_type": "code",
   "execution_count": 70,
   "id": "df4926f1-17ad-45d7-84bb-4c81f2f4aecb",
   "metadata": {},
   "outputs": [],
   "source": [
    "df['SAME_RISK'] = same_risk"
   ]
  },
  {
   "cell_type": "code",
   "execution_count": 71,
   "id": "f26f7579-92ea-4f96-873f-536bdb41d26a",
   "metadata": {},
   "outputs": [],
   "source": [
    "df = df[df['ZEFR_RISK']!='No GARM']"
   ]
  },
  {
   "cell_type": "code",
   "execution_count": 72,
   "id": "9c5db95a-1b8a-4417-af59-13ef2aafd866",
   "metadata": {},
   "outputs": [
    {
     "data": {
      "text/html": [
       "<div>\n",
       "<style scoped>\n",
       "    .dataframe tbody tr th:only-of-type {\n",
       "        vertical-align: middle;\n",
       "    }\n",
       "\n",
       "    .dataframe tbody tr th {\n",
       "        vertical-align: top;\n",
       "    }\n",
       "\n",
       "    .dataframe thead th {\n",
       "        text-align: right;\n",
       "    }\n",
       "</style>\n",
       "<table border=\"1\" class=\"dataframe\">\n",
       "  <thead>\n",
       "    <tr style=\"text-align: right;\">\n",
       "      <th></th>\n",
       "      <th>CHANNEL_ID</th>\n",
       "      <th>VIDEO_ID</th>\n",
       "      <th>SUITABILITY_CATEGORY</th>\n",
       "      <th>TAXONOMY_NAME</th>\n",
       "      <th>SCORE</th>\n",
       "      <th>DECISION</th>\n",
       "      <th>DV_RISK</th>\n",
       "      <th>simscore</th>\n",
       "      <th>CONCEPTS</th>\n",
       "      <th>ZEFR_RISK</th>\n",
       "      <th>SAME_RISK</th>\n",
       "    </tr>\n",
       "  </thead>\n",
       "  <tbody>\n",
       "    <tr>\n",
       "      <th>0</th>\n",
       "      <td>UChxJPnZ0x9I8iYrm4jjuo0w</td>\n",
       "      <td>c1AGFOjKDbM</td>\n",
       "      <td>Religion &amp; Spirituality</td>\n",
       "      <td>4A - Terrorism - [High]</td>\n",
       "      <td>0.0</td>\n",
       "      <td>False</td>\n",
       "      <td>Minimal</td>\n",
       "      <td>0.0</td>\n",
       "      <td>Terrorism</td>\n",
       "      <td>High</td>\n",
       "      <td>0</td>\n",
       "    </tr>\n",
       "    <tr>\n",
       "      <th>11</th>\n",
       "      <td>UC2c6FqF4olAZ7LodVEUueNQ</td>\n",
       "      <td>XHNZn7A4mcY</td>\n",
       "      <td>Family &amp; Parenting: Kids Content</td>\n",
       "      <td>4A - Death &amp; Injury - [Medium]</td>\n",
       "      <td>0.0</td>\n",
       "      <td>False</td>\n",
       "      <td>Minimal</td>\n",
       "      <td>0.0</td>\n",
       "      <td>Death &amp; Injury</td>\n",
       "      <td>Medium</td>\n",
       "      <td>0</td>\n",
       "    </tr>\n",
       "    <tr>\n",
       "      <th>15</th>\n",
       "      <td>UCJQXB7cxKeHGaMRig179adg</td>\n",
       "      <td>8yC0jpwUoeQ</td>\n",
       "      <td>Celebrity Gossip</td>\n",
       "      <td>4A - Social Issues - [High]</td>\n",
       "      <td>0.0</td>\n",
       "      <td>False</td>\n",
       "      <td>Minimal</td>\n",
       "      <td>0.0</td>\n",
       "      <td>Social Issues</td>\n",
       "      <td>High</td>\n",
       "      <td>0</td>\n",
       "    </tr>\n",
       "    <tr>\n",
       "      <th>16</th>\n",
       "      <td>UCJQXB7cxKeHGaMRig179adg</td>\n",
       "      <td>8yC0jpwUoeQ</td>\n",
       "      <td>Society: Marriage</td>\n",
       "      <td>4A - Social Issues - [High]</td>\n",
       "      <td>0.0</td>\n",
       "      <td>False</td>\n",
       "      <td>Minimal</td>\n",
       "      <td>0.0</td>\n",
       "      <td>Social Issues</td>\n",
       "      <td>High</td>\n",
       "      <td>0</td>\n",
       "    </tr>\n",
       "    <tr>\n",
       "      <th>23</th>\n",
       "      <td>UCkScchDI48GkQxIhdkSUrgQ</td>\n",
       "      <td>1S3kURkfvnM</td>\n",
       "      <td>Family &amp; Parenting: Kids Content</td>\n",
       "      <td>4A - Crime - [Minimal]</td>\n",
       "      <td>1.0</td>\n",
       "      <td>True</td>\n",
       "      <td>Minimal</td>\n",
       "      <td>0.0</td>\n",
       "      <td>Crime</td>\n",
       "      <td>Minimal</td>\n",
       "      <td>1</td>\n",
       "    </tr>\n",
       "  </tbody>\n",
       "</table>\n",
       "</div>"
      ],
      "text/plain": [
       "                  CHANNEL_ID     VIDEO_ID              SUITABILITY_CATEGORY  \\\n",
       "0   UChxJPnZ0x9I8iYrm4jjuo0w  c1AGFOjKDbM           Religion & Spirituality   \n",
       "11  UC2c6FqF4olAZ7LodVEUueNQ  XHNZn7A4mcY  Family & Parenting: Kids Content   \n",
       "15  UCJQXB7cxKeHGaMRig179adg  8yC0jpwUoeQ                  Celebrity Gossip   \n",
       "16  UCJQXB7cxKeHGaMRig179adg  8yC0jpwUoeQ                 Society: Marriage   \n",
       "23  UCkScchDI48GkQxIhdkSUrgQ  1S3kURkfvnM  Family & Parenting: Kids Content   \n",
       "\n",
       "                     TAXONOMY_NAME  SCORE DECISION  DV_RISK  simscore  \\\n",
       "0          4A - Terrorism - [High]    0.0    False  Minimal       0.0   \n",
       "11  4A - Death & Injury - [Medium]    0.0    False  Minimal       0.0   \n",
       "15     4A - Social Issues - [High]    0.0    False  Minimal       0.0   \n",
       "16     4A - Social Issues - [High]    0.0    False  Minimal       0.0   \n",
       "23          4A - Crime - [Minimal]    1.0     True  Minimal       0.0   \n",
       "\n",
       "          CONCEPTS ZEFR_RISK  SAME_RISK  \n",
       "0        Terrorism      High          0  \n",
       "11  Death & Injury    Medium          0  \n",
       "15   Social Issues      High          0  \n",
       "16   Social Issues      High          0  \n",
       "23           Crime   Minimal          1  "
      ]
     },
     "execution_count": 72,
     "metadata": {},
     "output_type": "execute_result"
    }
   ],
   "source": [
    "df.head()"
   ]
  },
  {
   "cell_type": "code",
   "execution_count": 73,
   "id": "da68212e-1ed3-472a-b956-a6a1b4ff1aad",
   "metadata": {
    "tags": []
   },
   "outputs": [
    {
     "data": {
      "text/plain": [
       "array(['High', 'Medium', 'Minimal', 'Low'], dtype=object)"
      ]
     },
     "execution_count": 73,
     "metadata": {},
     "output_type": "execute_result"
    }
   ],
   "source": [
    "df['ZEFR_RISK'].unique()"
   ]
  },
  {
   "cell_type": "code",
   "execution_count": 74,
   "id": "4cf4763d-fb8a-4b81-b2de-020ad6f04ddb",
   "metadata": {},
   "outputs": [
    {
     "data": {
      "text/plain": [
       "array(['Minimal', 'Medium Risk', 'Low Risk', 'High Risk'], dtype=object)"
      ]
     },
     "execution_count": 74,
     "metadata": {},
     "output_type": "execute_result"
    }
   ],
   "source": [
    "df['DV_RISK'].unique()"
   ]
  },
  {
   "cell_type": "code",
   "execution_count": 75,
   "id": "c7eacf37-4440-4d5d-bc96-983f73559314",
   "metadata": {},
   "outputs": [],
   "source": [
    "zefr_expected = []\n",
    "\n",
    "for i in df['ZEFR_RISK']:\n",
    "    if 'High' in i or 'Medium' in i or 'Low' in i or 'Floor' in i:\n",
    "        zefr_expected.append(1)\n",
    "    else:\n",
    "        zefr_expected.append(0)"
   ]
  },
  {
   "cell_type": "code",
   "execution_count": 76,
   "id": "a329d5c6-6a90-497e-ba79-37c50273ab4c",
   "metadata": {},
   "outputs": [],
   "source": [
    "predicted = []\n",
    "\n",
    "for i in df['DV_RISK']:\n",
    "    if 'High' in i or 'Medium Risk' in i or 'Low Risk' in i:\n",
    "        predicted.append(1)\n",
    "    else:\n",
    "        predicted.append(0)"
   ]
  },
  {
   "cell_type": "code",
   "execution_count": 77,
   "id": "40eb8e89-2e73-47d8-9430-0bd2b745e30f",
   "metadata": {},
   "outputs": [],
   "source": [
    "df['zefr_expected'] = zefr_expected\n",
    "df['predicted'] = predicted"
   ]
  },
  {
   "cell_type": "code",
   "execution_count": 78,
   "id": "b6c5c5fc-6f46-4d91-91dd-165530d390db",
   "metadata": {},
   "outputs": [],
   "source": [
    "df.drop_duplicates(inplace = True)"
   ]
  },
  {
   "cell_type": "code",
   "execution_count": 79,
   "id": "50e035af-3ce2-4d6a-902f-c2ec36cfefce",
   "metadata": {},
   "outputs": [
    {
     "data": {
      "text/html": [
       "<div>\n",
       "<style scoped>\n",
       "    .dataframe tbody tr th:only-of-type {\n",
       "        vertical-align: middle;\n",
       "    }\n",
       "\n",
       "    .dataframe tbody tr th {\n",
       "        vertical-align: top;\n",
       "    }\n",
       "\n",
       "    .dataframe thead th {\n",
       "        text-align: right;\n",
       "    }\n",
       "</style>\n",
       "<table border=\"1\" class=\"dataframe\">\n",
       "  <thead>\n",
       "    <tr style=\"text-align: right;\">\n",
       "      <th></th>\n",
       "      <th>CHANNEL_ID</th>\n",
       "      <th>VIDEO_ID</th>\n",
       "      <th>SUITABILITY_CATEGORY</th>\n",
       "      <th>TAXONOMY_NAME</th>\n",
       "      <th>SCORE</th>\n",
       "      <th>DECISION</th>\n",
       "      <th>DV_RISK</th>\n",
       "      <th>simscore</th>\n",
       "      <th>CONCEPTS</th>\n",
       "      <th>ZEFR_RISK</th>\n",
       "      <th>SAME_RISK</th>\n",
       "      <th>zefr_expected</th>\n",
       "      <th>predicted</th>\n",
       "    </tr>\n",
       "  </thead>\n",
       "  <tbody>\n",
       "    <tr>\n",
       "      <th>0</th>\n",
       "      <td>UChxJPnZ0x9I8iYrm4jjuo0w</td>\n",
       "      <td>c1AGFOjKDbM</td>\n",
       "      <td>Religion &amp; Spirituality</td>\n",
       "      <td>4A - Terrorism - [High]</td>\n",
       "      <td>0.0</td>\n",
       "      <td>False</td>\n",
       "      <td>Minimal</td>\n",
       "      <td>0.0</td>\n",
       "      <td>Terrorism</td>\n",
       "      <td>High</td>\n",
       "      <td>0</td>\n",
       "      <td>1</td>\n",
       "      <td>0</td>\n",
       "    </tr>\n",
       "    <tr>\n",
       "      <th>11</th>\n",
       "      <td>UC2c6FqF4olAZ7LodVEUueNQ</td>\n",
       "      <td>XHNZn7A4mcY</td>\n",
       "      <td>Family &amp; Parenting: Kids Content</td>\n",
       "      <td>4A - Death &amp; Injury - [Medium]</td>\n",
       "      <td>0.0</td>\n",
       "      <td>False</td>\n",
       "      <td>Minimal</td>\n",
       "      <td>0.0</td>\n",
       "      <td>Death &amp; Injury</td>\n",
       "      <td>Medium</td>\n",
       "      <td>0</td>\n",
       "      <td>1</td>\n",
       "      <td>0</td>\n",
       "    </tr>\n",
       "    <tr>\n",
       "      <th>15</th>\n",
       "      <td>UCJQXB7cxKeHGaMRig179adg</td>\n",
       "      <td>8yC0jpwUoeQ</td>\n",
       "      <td>Celebrity Gossip</td>\n",
       "      <td>4A - Social Issues - [High]</td>\n",
       "      <td>0.0</td>\n",
       "      <td>False</td>\n",
       "      <td>Minimal</td>\n",
       "      <td>0.0</td>\n",
       "      <td>Social Issues</td>\n",
       "      <td>High</td>\n",
       "      <td>0</td>\n",
       "      <td>1</td>\n",
       "      <td>0</td>\n",
       "    </tr>\n",
       "    <tr>\n",
       "      <th>16</th>\n",
       "      <td>UCJQXB7cxKeHGaMRig179adg</td>\n",
       "      <td>8yC0jpwUoeQ</td>\n",
       "      <td>Society: Marriage</td>\n",
       "      <td>4A - Social Issues - [High]</td>\n",
       "      <td>0.0</td>\n",
       "      <td>False</td>\n",
       "      <td>Minimal</td>\n",
       "      <td>0.0</td>\n",
       "      <td>Social Issues</td>\n",
       "      <td>High</td>\n",
       "      <td>0</td>\n",
       "      <td>1</td>\n",
       "      <td>0</td>\n",
       "    </tr>\n",
       "    <tr>\n",
       "      <th>23</th>\n",
       "      <td>UCkScchDI48GkQxIhdkSUrgQ</td>\n",
       "      <td>1S3kURkfvnM</td>\n",
       "      <td>Family &amp; Parenting: Kids Content</td>\n",
       "      <td>4A - Crime - [Minimal]</td>\n",
       "      <td>1.0</td>\n",
       "      <td>True</td>\n",
       "      <td>Minimal</td>\n",
       "      <td>0.0</td>\n",
       "      <td>Crime</td>\n",
       "      <td>Minimal</td>\n",
       "      <td>1</td>\n",
       "      <td>0</td>\n",
       "      <td>0</td>\n",
       "    </tr>\n",
       "  </tbody>\n",
       "</table>\n",
       "</div>"
      ],
      "text/plain": [
       "                  CHANNEL_ID     VIDEO_ID              SUITABILITY_CATEGORY  \\\n",
       "0   UChxJPnZ0x9I8iYrm4jjuo0w  c1AGFOjKDbM           Religion & Spirituality   \n",
       "11  UC2c6FqF4olAZ7LodVEUueNQ  XHNZn7A4mcY  Family & Parenting: Kids Content   \n",
       "15  UCJQXB7cxKeHGaMRig179adg  8yC0jpwUoeQ                  Celebrity Gossip   \n",
       "16  UCJQXB7cxKeHGaMRig179adg  8yC0jpwUoeQ                 Society: Marriage   \n",
       "23  UCkScchDI48GkQxIhdkSUrgQ  1S3kURkfvnM  Family & Parenting: Kids Content   \n",
       "\n",
       "                     TAXONOMY_NAME  SCORE DECISION  DV_RISK  simscore  \\\n",
       "0          4A - Terrorism - [High]    0.0    False  Minimal       0.0   \n",
       "11  4A - Death & Injury - [Medium]    0.0    False  Minimal       0.0   \n",
       "15     4A - Social Issues - [High]    0.0    False  Minimal       0.0   \n",
       "16     4A - Social Issues - [High]    0.0    False  Minimal       0.0   \n",
       "23          4A - Crime - [Minimal]    1.0     True  Minimal       0.0   \n",
       "\n",
       "          CONCEPTS ZEFR_RISK  SAME_RISK  zefr_expected  predicted  \n",
       "0        Terrorism      High          0              1          0  \n",
       "11  Death & Injury    Medium          0              1          0  \n",
       "15   Social Issues      High          0              1          0  \n",
       "16   Social Issues      High          0              1          0  \n",
       "23           Crime   Minimal          1              0          0  "
      ]
     },
     "execution_count": 79,
     "metadata": {},
     "output_type": "execute_result"
    }
   ],
   "source": [
    "df.head()"
   ]
  },
  {
   "cell_type": "code",
   "execution_count": 83,
   "id": "7719d95e-1460-4447-b45c-93bed6b4814a",
   "metadata": {},
   "outputs": [],
   "source": [
    "df.to_clipboard()"
   ]
  },
  {
   "cell_type": "code",
   "execution_count": 80,
   "id": "097378a6-b0df-4fc5-86fa-cf041737eb9b",
   "metadata": {},
   "outputs": [],
   "source": [
    "X = df['zefr_expected']\n",
    "y = df['predicted']"
   ]
  },
  {
   "cell_type": "code",
   "execution_count": 81,
   "id": "657fd905-22c2-43ca-8916-8cfff55bab1e",
   "metadata": {},
   "outputs": [
    {
     "name": "stdout",
     "output_type": "stream",
     "text": [
      "[[13515  2373]\n",
      " [39997  7209]]\n"
     ]
    }
   ],
   "source": [
    "from sklearn.metrics import confusion_matrix\n",
    "\n",
    "#Generate the confusion matrix\n",
    "cf_matrix = confusion_matrix(X, y)\n",
    "\n",
    "print(cf_matrix)"
   ]
  },
  {
   "cell_type": "code",
   "execution_count": 82,
   "id": "d0883a3c-3b10-4ef3-987c-22a1d7bbdcee",
   "metadata": {},
   "outputs": [
    {
     "data": {
      "image/png": "[encoded data removed]",
      "text/plain": [
       "<Figure size 432x288 with 2 Axes>"
      ]
     },
     "metadata": {
      "needs_background": "light"
     },
     "output_type": "display_data"
    }
   ],
   "source": [
    "import seaborn as sns\n",
    "import numpy as np\n",
    "import matplotlib.pyplot as plt\n",
    "\n",
    "ax = sns.heatmap(cf_matrix/np.sum(cf_matrix), annot=True, \n",
    "            fmt='.2%', cmap='Blues')\n",
    "\n",
    "ax.set_title('Confusion Matrix\\n\\n');\n",
    "ax.set_xlabel('\\nDV Flags')\n",
    "ax.set_ylabel('ZEFR Actual Flags ');\n",
    "\n",
    "## Ticket labels - List must be in alphabetical order\n",
    "ax.xaxis.set_ticklabels(['False','True'])\n",
    "ax.yaxis.set_ticklabels(['False','True'])\n",
    "\n",
    "## Display the visualization of the Confusion Matrix.\n",
    "plt.show()"
   ]
  },
  {
   "cell_type": "markdown",
   "id": "ecd32088-18b5-496a-9414-e0c939acf094",
   "metadata": {},
   "source": [
    "event = low/medium/high/floor flag <br>\n",
    "no event = minimal flag <br>\n",
    "\n",
    "True Positive = ZEFR-flagged videos, ALSO flagged by DV <br>\n",
    "False Positive = ZEFR-flagged videos, NOT flagged by DV <br>\n",
    "True Negative = ZEFR-no flag videos, ALSO not flagged by DV <br>\n",
    "False Negative = ZEFR-no flag videos, BUT flagged by DV <br>\n",
    "\n",
    "This dataset is where there is a ZEFR flag (minimal included) <br>\n",
    "and there is a ZEFR GARM category"
   ]
  },
  {
   "cell_type": "code",
   "execution_count": null,
   "id": "8f40fa9c-361e-475c-b832-d8977c550111",
   "metadata": {},
   "outputs": [],
   "source": []
  }
 ],
 "metadata": {
  "kernelspec": {
   "display_name": "Python 3",
   "language": "python",
   "name": "python3"
  },
  "language_info": {
   "codemirror_mode": {
    "name": "ipython",
    "version": 3
   },
   "file_extension": ".py",
   "mimetype": "text/x-python",
   "name": "python",
   "nbconvert_exporter": "python",
   "pygments_lexer": "ipython3",
   "version": "3.8.8"
  }
 },
 "nbformat": 4,
 "nbformat_minor": 5
}
