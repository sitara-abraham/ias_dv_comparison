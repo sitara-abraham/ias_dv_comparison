{
 "cells": [
  {
   "cell_type": "code",
   "execution_count": 27,
   "id": "93f44c89-f192-440b-93c8-8e858bab6969",
   "metadata": {},
   "outputs": [],
   "source": [
    "import pandas as pd\n",
    "import re"
   ]
  },
  {
   "cell_type": "code",
   "execution_count": 2,
   "id": "5a875fbc-a9ac-426c-adb5-6b139e0e8e9b",
   "metadata": {},
   "outputs": [],
   "source": [
    "# pulling from pickle file created in step 1"
   ]
  },
  {
   "cell_type": "code",
   "execution_count": 28,
   "id": "adeb2c73-c4e1-4d29-92ad-a60cc5e11962",
   "metadata": {},
   "outputs": [],
   "source": [
    "df = pd.read_pickle('/Users/onb/Documents/Analysis/DoubleVerify Analysis/Data/Safety Flag/ZEFR_Safety_Flag_Risk_Data.pkl')"
   ]
  },
  {
   "cell_type": "code",
   "execution_count": 29,
   "id": "d90eb362-1a3f-4b0f-b6dd-1d105c13ac39",
   "metadata": {},
   "outputs": [
    {
     "data": {
      "text/html": [
       "<div>\n",
       "<style scoped>\n",
       "    .dataframe tbody tr th:only-of-type {\n",
       "        vertical-align: middle;\n",
       "    }\n",
       "\n",
       "    .dataframe tbody tr th {\n",
       "        vertical-align: top;\n",
       "    }\n",
       "\n",
       "    .dataframe thead th {\n",
       "        text-align: right;\n",
       "    }\n",
       "</style>\n",
       "<table border=\"1\" class=\"dataframe\">\n",
       "  <thead>\n",
       "    <tr style=\"text-align: right;\">\n",
       "      <th></th>\n",
       "      <th>CHANNEL_ID</th>\n",
       "      <th>VIDEO_ID</th>\n",
       "      <th>SUITABILITY_CATEGORY</th>\n",
       "      <th>TAXONOMY_NAME</th>\n",
       "      <th>SCORE</th>\n",
       "      <th>DECISION</th>\n",
       "      <th>DV_RISK</th>\n",
       "      <th>vector1</th>\n",
       "      <th>vector2</th>\n",
       "      <th>simscore</th>\n",
       "    </tr>\n",
       "  </thead>\n",
       "  <tbody>\n",
       "    <tr>\n",
       "      <th>0</th>\n",
       "      <td>UChxJPnZ0x9I8iYrm4jjuo0w</td>\n",
       "      <td>c1AGFOjKDbM</td>\n",
       "      <td>Religion &amp; Spirituality</td>\n",
       "      <td>4A - Terrorism - [High]</td>\n",
       "      <td>0.000000</td>\n",
       "      <td>False</td>\n",
       "      <td>Minimal</td>\n",
       "      <td>{'Religion': 1, 'Spirituality': 1}</td>\n",
       "      <td>{'4A': 1, 'Terrorism': 1, 'High': 1}</td>\n",
       "      <td>0.0</td>\n",
       "    </tr>\n",
       "    <tr>\n",
       "      <th>4</th>\n",
       "      <td>UCwADl1l8G7IQxasyu43yi1A</td>\n",
       "      <td>9MLp5gi59dM</td>\n",
       "      <td>Celebrity Gossip</td>\n",
       "      <td>Brand Safety - Crime - V1</td>\n",
       "      <td>0.043045</td>\n",
       "      <td>None</td>\n",
       "      <td>Minimal</td>\n",
       "      <td>{'Celebrity': 1, 'Gossip': 1}</td>\n",
       "      <td>{'Brand': 1, 'Safety': 1, 'Crime': 1, 'V1': 1}</td>\n",
       "      <td>0.0</td>\n",
       "    </tr>\n",
       "    <tr>\n",
       "      <th>11</th>\n",
       "      <td>UC2c6FqF4olAZ7LodVEUueNQ</td>\n",
       "      <td>XHNZn7A4mcY</td>\n",
       "      <td>Family &amp; Parenting: Kids Content</td>\n",
       "      <td>4A - Death &amp; Injury - [Medium]</td>\n",
       "      <td>0.000000</td>\n",
       "      <td>False</td>\n",
       "      <td>Minimal</td>\n",
       "      <td>{'Family': 1, 'Parenting': 1, 'Kids': 1, 'Cont...</td>\n",
       "      <td>{'4A': 1, 'Death': 1, 'Injury': 1, 'Medium': 1}</td>\n",
       "      <td>0.0</td>\n",
       "    </tr>\n",
       "    <tr>\n",
       "      <th>13</th>\n",
       "      <td>UCvRAX-ujvZ0eTMLGG2vki9w</td>\n",
       "      <td>zpp9fkHTzis</td>\n",
       "      <td>Law, Gov't &amp; Politics: Politics</td>\n",
       "      <td>Japanese Brand Safety - V1</td>\n",
       "      <td>0.134686</td>\n",
       "      <td>True</td>\n",
       "      <td>Minimal</td>\n",
       "      <td>{'Law': 1, 'Gov': 1, 't': 1, 'Politics': 2}</td>\n",
       "      <td>{'Japanese': 1, 'Brand': 1, 'Safety': 1, 'V1': 1}</td>\n",
       "      <td>0.0</td>\n",
       "    </tr>\n",
       "    <tr>\n",
       "      <th>15</th>\n",
       "      <td>UCJQXB7cxKeHGaMRig179adg</td>\n",
       "      <td>8yC0jpwUoeQ</td>\n",
       "      <td>Celebrity Gossip</td>\n",
       "      <td>4A - Social Issues - [High]</td>\n",
       "      <td>0.000000</td>\n",
       "      <td>False</td>\n",
       "      <td>Minimal</td>\n",
       "      <td>{'Celebrity': 1, 'Gossip': 1}</td>\n",
       "      <td>{'4A': 1, 'Social': 1, 'Issues': 1, 'High': 1}</td>\n",
       "      <td>0.0</td>\n",
       "    </tr>\n",
       "  </tbody>\n",
       "</table>\n",
       "</div>"
      ],
      "text/plain": [
       "                  CHANNEL_ID     VIDEO_ID              SUITABILITY_CATEGORY  \\\n",
       "0   UChxJPnZ0x9I8iYrm4jjuo0w  c1AGFOjKDbM           Religion & Spirituality   \n",
       "4   UCwADl1l8G7IQxasyu43yi1A  9MLp5gi59dM                  Celebrity Gossip   \n",
       "11  UC2c6FqF4olAZ7LodVEUueNQ  XHNZn7A4mcY  Family & Parenting: Kids Content   \n",
       "13  UCvRAX-ujvZ0eTMLGG2vki9w  zpp9fkHTzis   Law, Gov't & Politics: Politics   \n",
       "15  UCJQXB7cxKeHGaMRig179adg  8yC0jpwUoeQ                  Celebrity Gossip   \n",
       "\n",
       "                     TAXONOMY_NAME     SCORE DECISION  DV_RISK  \\\n",
       "0          4A - Terrorism - [High]  0.000000    False  Minimal   \n",
       "4        Brand Safety - Crime - V1  0.043045     None  Minimal   \n",
       "11  4A - Death & Injury - [Medium]  0.000000    False  Minimal   \n",
       "13      Japanese Brand Safety - V1  0.134686     True  Minimal   \n",
       "15     4A - Social Issues - [High]  0.000000    False  Minimal   \n",
       "\n",
       "                                              vector1  \\\n",
       "0                  {'Religion': 1, 'Spirituality': 1}   \n",
       "4                       {'Celebrity': 1, 'Gossip': 1}   \n",
       "11  {'Family': 1, 'Parenting': 1, 'Kids': 1, 'Cont...   \n",
       "13        {'Law': 1, 'Gov': 1, 't': 1, 'Politics': 2}   \n",
       "15                      {'Celebrity': 1, 'Gossip': 1}   \n",
       "\n",
       "                                              vector2  simscore  \n",
       "0                {'4A': 1, 'Terrorism': 1, 'High': 1}       0.0  \n",
       "4      {'Brand': 1, 'Safety': 1, 'Crime': 1, 'V1': 1}       0.0  \n",
       "11    {'4A': 1, 'Death': 1, 'Injury': 1, 'Medium': 1}       0.0  \n",
       "13  {'Japanese': 1, 'Brand': 1, 'Safety': 1, 'V1': 1}       0.0  \n",
       "15     {'4A': 1, 'Social': 1, 'Issues': 1, 'High': 1}       0.0  "
      ]
     },
     "execution_count": 29,
     "metadata": {},
     "output_type": "execute_result"
    }
   ],
   "source": [
    "df.head()"
   ]
  },
  {
   "cell_type": "code",
   "execution_count": 30,
   "id": "ea03fa83-5dbf-4f1f-93f7-2a892918170d",
   "metadata": {},
   "outputs": [],
   "source": [
    "df.drop(['vector1','vector2'], axis = 1, inplace = True)"
   ]
  },
  {
   "cell_type": "code",
   "execution_count": 31,
   "id": "6c0b15e2-de33-40bb-8acf-1ea65636ca14",
   "metadata": {},
   "outputs": [],
   "source": [
    "concepts = []\n",
    "\n",
    "for txt in df['TAXONOMY_NAME']:\n",
    "    if '4A' in txt:\n",
    "        result =  re.search('- (.*) -', txt)\n",
    "        concepts.append(result.group(1))\n",
    "    else:\n",
    "        concepts.append(txt)\n",
    "        \n",
    "df['CONCEPTS'] = concepts"
   ]
  },
  {
   "cell_type": "code",
   "execution_count": 32,
   "id": "9f028f28-28fc-40a6-b86c-c04b80a1e92d",
   "metadata": {},
   "outputs": [],
   "source": [
    "ZEFR_RISK = []\n",
    "\n",
    "for txt in df['TAXONOMY_NAME']:\n",
    "    if 'Minimal' in txt:\n",
    "        ZEFR_RISK.append('Minimal')\n",
    "    elif 'Low' in txt:\n",
    "        ZEFR_RISK.append('Low')\n",
    "    elif 'Medium' in txt:\n",
    "        ZEFR_RISK.append('Medium')\n",
    "    elif 'High' in txt:\n",
    "        ZEFR_RISK.append('High')\n",
    "    else:\n",
    "        ZEFR_RISK.append('No GARM')\n",
    "        \n",
    "df['ZEFR_RISK'] = ZEFR_RISK"
   ]
  },
  {
   "cell_type": "code",
   "execution_count": 33,
   "id": "b177471d-e0d2-4e18-844d-18081cfad4f9",
   "metadata": {},
   "outputs": [],
   "source": [
    "same_risk = []\n",
    "\n",
    "for i,v in enumerate(df['TAXONOMY_NAME']):\n",
    "    if 'Minimal' in df['DV_RISK'].iloc[i] and 'Minimal' in v:\n",
    "        same_risk.append(1)\n",
    "    elif 'Low' in df['DV_RISK'].iloc[i] and 'Low' in v:\n",
    "        same_risk.append(1)  \n",
    "    elif 'Medium' in df['DV_RISK'].iloc[i] and 'Medium' in v:\n",
    "        same_risk.append(1) \n",
    "    elif 'High' in df['DV_RISK'].iloc[i] and 'High' in v or 'Floor' in v:\n",
    "        same_risk.append(1) \n",
    "    else:\n",
    "        same_risk.append(0)"
   ]
  },
  {
   "cell_type": "code",
   "execution_count": 34,
   "id": "df4926f1-17ad-45d7-84bb-4c81f2f4aecb",
   "metadata": {},
   "outputs": [],
   "source": [
    "df['SAME_RISK'] = same_risk"
   ]
  },
  {
   "cell_type": "code",
   "execution_count": 35,
   "id": "f26f7579-92ea-4f96-873f-536bdb41d26a",
   "metadata": {},
   "outputs": [],
   "source": [
    "df = df[df['ZEFR_RISK']!='No GARM']"
   ]
  },
  {
   "cell_type": "code",
   "execution_count": 37,
   "id": "81272715-77f4-42c6-a5f6-72d3ee319c9a",
   "metadata": {},
   "outputs": [],
   "source": [
    "df.to_clipboard()"
   ]
  },
  {
   "cell_type": "code",
   "execution_count": 38,
   "id": "9c5db95a-1b8a-4417-af59-13ef2aafd866",
   "metadata": {},
   "outputs": [
    {
     "data": {
      "text/html": [
       "<div>\n",
       "<style scoped>\n",
       "    .dataframe tbody tr th:only-of-type {\n",
       "        vertical-align: middle;\n",
       "    }\n",
       "\n",
       "    .dataframe tbody tr th {\n",
       "        vertical-align: top;\n",
       "    }\n",
       "\n",
       "    .dataframe thead th {\n",
       "        text-align: right;\n",
       "    }\n",
       "</style>\n",
       "<table border=\"1\" class=\"dataframe\">\n",
       "  <thead>\n",
       "    <tr style=\"text-align: right;\">\n",
       "      <th></th>\n",
       "      <th>CHANNEL_ID</th>\n",
       "      <th>VIDEO_ID</th>\n",
       "      <th>SUITABILITY_CATEGORY</th>\n",
       "      <th>TAXONOMY_NAME</th>\n",
       "      <th>SCORE</th>\n",
       "      <th>DECISION</th>\n",
       "      <th>DV_RISK</th>\n",
       "      <th>simscore</th>\n",
       "      <th>CONCEPTS</th>\n",
       "      <th>ZEFR_RISK</th>\n",
       "      <th>SAME_RISK</th>\n",
       "    </tr>\n",
       "  </thead>\n",
       "  <tbody>\n",
       "    <tr>\n",
       "      <th>0</th>\n",
       "      <td>UChxJPnZ0x9I8iYrm4jjuo0w</td>\n",
       "      <td>c1AGFOjKDbM</td>\n",
       "      <td>Religion &amp; Spirituality</td>\n",
       "      <td>4A - Terrorism - [High]</td>\n",
       "      <td>0.0</td>\n",
       "      <td>False</td>\n",
       "      <td>Minimal</td>\n",
       "      <td>0.0</td>\n",
       "      <td>Terrorism</td>\n",
       "      <td>High</td>\n",
       "      <td>0</td>\n",
       "    </tr>\n",
       "    <tr>\n",
       "      <th>11</th>\n",
       "      <td>UC2c6FqF4olAZ7LodVEUueNQ</td>\n",
       "      <td>XHNZn7A4mcY</td>\n",
       "      <td>Family &amp; Parenting: Kids Content</td>\n",
       "      <td>4A - Death &amp; Injury - [Medium]</td>\n",
       "      <td>0.0</td>\n",
       "      <td>False</td>\n",
       "      <td>Minimal</td>\n",
       "      <td>0.0</td>\n",
       "      <td>Death &amp; Injury</td>\n",
       "      <td>Medium</td>\n",
       "      <td>0</td>\n",
       "    </tr>\n",
       "    <tr>\n",
       "      <th>15</th>\n",
       "      <td>UCJQXB7cxKeHGaMRig179adg</td>\n",
       "      <td>8yC0jpwUoeQ</td>\n",
       "      <td>Celebrity Gossip</td>\n",
       "      <td>4A - Social Issues - [High]</td>\n",
       "      <td>0.0</td>\n",
       "      <td>False</td>\n",
       "      <td>Minimal</td>\n",
       "      <td>0.0</td>\n",
       "      <td>Social Issues</td>\n",
       "      <td>High</td>\n",
       "      <td>0</td>\n",
       "    </tr>\n",
       "    <tr>\n",
       "      <th>16</th>\n",
       "      <td>UCJQXB7cxKeHGaMRig179adg</td>\n",
       "      <td>8yC0jpwUoeQ</td>\n",
       "      <td>Society: Marriage</td>\n",
       "      <td>4A - Social Issues - [High]</td>\n",
       "      <td>0.0</td>\n",
       "      <td>False</td>\n",
       "      <td>Minimal</td>\n",
       "      <td>0.0</td>\n",
       "      <td>Social Issues</td>\n",
       "      <td>High</td>\n",
       "      <td>0</td>\n",
       "    </tr>\n",
       "    <tr>\n",
       "      <th>23</th>\n",
       "      <td>UCkScchDI48GkQxIhdkSUrgQ</td>\n",
       "      <td>1S3kURkfvnM</td>\n",
       "      <td>Family &amp; Parenting: Kids Content</td>\n",
       "      <td>4A - Crime - [Minimal]</td>\n",
       "      <td>1.0</td>\n",
       "      <td>True</td>\n",
       "      <td>Minimal</td>\n",
       "      <td>0.0</td>\n",
       "      <td>Crime</td>\n",
       "      <td>Minimal</td>\n",
       "      <td>1</td>\n",
       "    </tr>\n",
       "  </tbody>\n",
       "</table>\n",
       "</div>"
      ],
      "text/plain": [
       "                  CHANNEL_ID     VIDEO_ID              SUITABILITY_CATEGORY  \\\n",
       "0   UChxJPnZ0x9I8iYrm4jjuo0w  c1AGFOjKDbM           Religion & Spirituality   \n",
       "11  UC2c6FqF4olAZ7LodVEUueNQ  XHNZn7A4mcY  Family & Parenting: Kids Content   \n",
       "15  UCJQXB7cxKeHGaMRig179adg  8yC0jpwUoeQ                  Celebrity Gossip   \n",
       "16  UCJQXB7cxKeHGaMRig179adg  8yC0jpwUoeQ                 Society: Marriage   \n",
       "23  UCkScchDI48GkQxIhdkSUrgQ  1S3kURkfvnM  Family & Parenting: Kids Content   \n",
       "\n",
       "                     TAXONOMY_NAME  SCORE DECISION  DV_RISK  simscore  \\\n",
       "0          4A - Terrorism - [High]    0.0    False  Minimal       0.0   \n",
       "11  4A - Death & Injury - [Medium]    0.0    False  Minimal       0.0   \n",
       "15     4A - Social Issues - [High]    0.0    False  Minimal       0.0   \n",
       "16     4A - Social Issues - [High]    0.0    False  Minimal       0.0   \n",
       "23          4A - Crime - [Minimal]    1.0     True  Minimal       0.0   \n",
       "\n",
       "          CONCEPTS ZEFR_RISK  SAME_RISK  \n",
       "0        Terrorism      High          0  \n",
       "11  Death & Injury    Medium          0  \n",
       "15   Social Issues      High          0  \n",
       "16   Social Issues      High          0  \n",
       "23           Crime   Minimal          1  "
      ]
     },
     "execution_count": 38,
     "metadata": {},
     "output_type": "execute_result"
    }
   ],
   "source": [
    "df.head()"
   ]
  },
  {
   "cell_type": "code",
   "execution_count": 1,
   "id": "4febb474-7b36-419c-b487-99bd0ed20c1a",
   "metadata": {
    "collapsed": true,
    "jupyter": {
     "outputs_hidden": true
    },
    "tags": []
   },
   "outputs": [
    {
     "ename": "NameError",
     "evalue": "name 'df' is not defined",
     "output_type": "error",
     "traceback": [
      "\u001b[0;31m---------------------------------------------------------------------------\u001b[0m",
      "\u001b[0;31mNameError\u001b[0m                                 Traceback (most recent call last)",
      "\u001b[0;32m<ipython-input-1-40a25f79c825>\u001b[0m in \u001b[0;36m<module>\u001b[0;34m\u001b[0m\n\u001b[0;32m----> 1\u001b[0;31m \u001b[0mdf\u001b[0m\u001b[0;34m[\u001b[0m\u001b[0;34m'SUITABILITY_CATEGORY'\u001b[0m\u001b[0;34m]\u001b[0m\u001b[0;34m.\u001b[0m\u001b[0munique\u001b[0m\u001b[0;34m(\u001b[0m\u001b[0;34m)\u001b[0m\u001b[0;34m\u001b[0m\u001b[0;34m\u001b[0m\u001b[0m\n\u001b[0m",
      "\u001b[0;31mNameError\u001b[0m: name 'df' is not defined"
     ]
    }
   ],
   "source": [
    "df['SUITABILITY_CATEGORY'].unique()"
   ]
  },
  {
   "cell_type": "code",
   "execution_count": 39,
   "id": "d2f75d94-dfbd-43c1-b109-19e860beb38c",
   "metadata": {},
   "outputs": [],
   "source": [
    "import snowflake.connector\n",
    "from snowflake.connector.pandas_tools import write_pandas\n",
    "from snowflake.sqlalchemy import URL\n",
    "from sqlalchemy import create_engine\n",
    "from snowflake.connector.pandas_tools import pd_writer"
   ]
  },
  {
   "cell_type": "code",
   "execution_count": 40,
   "id": "d969d1d5-7f70-4d94-876b-c5815199877e",
   "metadata": {},
   "outputs": [],
   "source": [
    "table_name = 'ZEFR_SAFETY_FLAG_RISK'\n",
    "schema = 'ANALYST'"
   ]
  },
  {
   "cell_type": "code",
   "execution_count": 41,
   "id": "5bcc061c-bb83-475b-99b5-187d8fcca817",
   "metadata": {},
   "outputs": [],
   "source": [
    "df.rename(columns={\"simscore\": \"SIMSCORE\"}, inplace = True)"
   ]
  },
  {
   "cell_type": "code",
   "execution_count": 42,
   "id": "6780ef9c-20da-4aa8-9351-63854672f123",
   "metadata": {},
   "outputs": [],
   "source": [
    "def connection(schema):\n",
    "    conn = snowflake.connector.connect(\n",
    "        host=\"localhost\",\n",
    "        port=\"10015\",\n",
    "        user=\"sdm\",\n",
    "        password=\"sdm\",\n",
    "        account=\"dummy\",\n",
    "        protocol=\"http\",\n",
    "        warehouse=\"ENGINEER_WH\",\n",
    "        database=\"PROD\",\n",
    "        schema=schema,\n",
    "    )\n",
    "    return conn"
   ]
  },
  {
   "cell_type": "code",
   "execution_count": 43,
   "id": "8e0cb6a5-4c50-47fc-8d47-fdba8f16b5bc",
   "metadata": {},
   "outputs": [],
   "source": [
    "def write_snowflake(schema,df,table_name):\n",
    "    conn = connection(schema)\n",
    "    success, nchunks, nrows, _ = write_pandas(conn, df, table_name, chunk_size = 1000)\n",
    "    \n",
    "    return success, nchunks, nrows, _"
   ]
  },
  {
   "cell_type": "code",
   "execution_count": 44,
   "id": "3a05a988-a1c8-4732-a14e-38a2c909cc6b",
   "metadata": {
    "collapsed": true,
    "jupyter": {
     "outputs_hidden": true
    },
    "tags": []
   },
   "outputs": [
    {
     "ename": "ProgrammingError",
     "evalue": "000904 (42000): SQL compilation error: error line 1 at position 199\ninvalid identifier 'CONCEPTS'",
     "output_type": "error",
     "traceback": [
      "\u001b[0;31m---------------------------------------------------------------------------\u001b[0m",
      "\u001b[0;31mProgrammingError\u001b[0m                          Traceback (most recent call last)",
      "\u001b[0;32m<ipython-input-44-bc03d41e9531>\u001b[0m in \u001b[0;36m<module>\u001b[0;34m\u001b[0m\n\u001b[0;32m----> 1\u001b[0;31m \u001b[0msuccess\u001b[0m\u001b[0;34m,\u001b[0m \u001b[0mnchunks\u001b[0m\u001b[0;34m,\u001b[0m \u001b[0mnrows\u001b[0m\u001b[0;34m,\u001b[0m \u001b[0m_\u001b[0m \u001b[0;34m=\u001b[0m \u001b[0mwrite_snowflake\u001b[0m\u001b[0;34m(\u001b[0m\u001b[0mschema\u001b[0m\u001b[0;34m,\u001b[0m \u001b[0mdf\u001b[0m\u001b[0;34m,\u001b[0m \u001b[0mtable_name\u001b[0m\u001b[0;34m)\u001b[0m\u001b[0;34m\u001b[0m\u001b[0;34m\u001b[0m\u001b[0m\n\u001b[0m",
      "\u001b[0;32m<ipython-input-43-fa4451adbdb4>\u001b[0m in \u001b[0;36mwrite_snowflake\u001b[0;34m(schema, df, table_name)\u001b[0m\n\u001b[1;32m      1\u001b[0m \u001b[0;32mdef\u001b[0m \u001b[0mwrite_snowflake\u001b[0m\u001b[0;34m(\u001b[0m\u001b[0mschema\u001b[0m\u001b[0;34m,\u001b[0m\u001b[0mdf\u001b[0m\u001b[0;34m,\u001b[0m\u001b[0mtable_name\u001b[0m\u001b[0;34m)\u001b[0m\u001b[0;34m:\u001b[0m\u001b[0;34m\u001b[0m\u001b[0;34m\u001b[0m\u001b[0m\n\u001b[1;32m      2\u001b[0m     \u001b[0mconn\u001b[0m \u001b[0;34m=\u001b[0m \u001b[0mconnection\u001b[0m\u001b[0;34m(\u001b[0m\u001b[0mschema\u001b[0m\u001b[0;34m)\u001b[0m\u001b[0;34m\u001b[0m\u001b[0;34m\u001b[0m\u001b[0m\n\u001b[0;32m----> 3\u001b[0;31m     \u001b[0msuccess\u001b[0m\u001b[0;34m,\u001b[0m \u001b[0mnchunks\u001b[0m\u001b[0;34m,\u001b[0m \u001b[0mnrows\u001b[0m\u001b[0;34m,\u001b[0m \u001b[0m_\u001b[0m \u001b[0;34m=\u001b[0m \u001b[0mwrite_pandas\u001b[0m\u001b[0;34m(\u001b[0m\u001b[0mconn\u001b[0m\u001b[0;34m,\u001b[0m \u001b[0mdf\u001b[0m\u001b[0;34m,\u001b[0m \u001b[0mtable_name\u001b[0m\u001b[0;34m,\u001b[0m \u001b[0mchunk_size\u001b[0m \u001b[0;34m=\u001b[0m \u001b[0;36m1000\u001b[0m\u001b[0;34m)\u001b[0m\u001b[0;34m\u001b[0m\u001b[0;34m\u001b[0m\u001b[0m\n\u001b[0m\u001b[1;32m      4\u001b[0m \u001b[0;34m\u001b[0m\u001b[0m\n\u001b[1;32m      5\u001b[0m     \u001b[0;32mreturn\u001b[0m \u001b[0msuccess\u001b[0m\u001b[0;34m,\u001b[0m \u001b[0mnchunks\u001b[0m\u001b[0;34m,\u001b[0m \u001b[0mnrows\u001b[0m\u001b[0;34m,\u001b[0m \u001b[0m_\u001b[0m\u001b[0;34m\u001b[0m\u001b[0;34m\u001b[0m\u001b[0m\n",
      "\u001b[0;32m~/opt/anaconda3/lib/python3.8/site-packages/snowflake/connector/pandas_tools.py\u001b[0m in \u001b[0;36mwrite_pandas\u001b[0;34m(conn, df, table_name, database, schema, chunk_size, compression, on_error, parallel, quote_identifiers)\u001b[0m\n\u001b[1;32m    197\u001b[0m     )\n\u001b[1;32m    198\u001b[0m     \u001b[0mlogger\u001b[0m\u001b[0;34m.\u001b[0m\u001b[0mdebug\u001b[0m\u001b[0;34m(\u001b[0m\u001b[0;34m\"copying into with '{}'\"\u001b[0m\u001b[0;34m.\u001b[0m\u001b[0mformat\u001b[0m\u001b[0;34m(\u001b[0m\u001b[0mcopy_into_sql\u001b[0m\u001b[0;34m)\u001b[0m\u001b[0;34m)\u001b[0m\u001b[0;34m\u001b[0m\u001b[0;34m\u001b[0m\u001b[0m\n\u001b[0;32m--> 199\u001b[0;31m     \u001b[0mcopy_results\u001b[0m \u001b[0;34m=\u001b[0m \u001b[0mcursor\u001b[0m\u001b[0;34m.\u001b[0m\u001b[0mexecute\u001b[0m\u001b[0;34m(\u001b[0m\u001b[0mcopy_into_sql\u001b[0m\u001b[0;34m,\u001b[0m \u001b[0m_is_internal\u001b[0m\u001b[0;34m=\u001b[0m\u001b[0;32mTrue\u001b[0m\u001b[0;34m)\u001b[0m\u001b[0;34m.\u001b[0m\u001b[0mfetchall\u001b[0m\u001b[0;34m(\u001b[0m\u001b[0;34m)\u001b[0m\u001b[0;34m\u001b[0m\u001b[0;34m\u001b[0m\u001b[0m\n\u001b[0m\u001b[1;32m    200\u001b[0m     \u001b[0mcursor\u001b[0m\u001b[0;34m.\u001b[0m\u001b[0mclose\u001b[0m\u001b[0;34m(\u001b[0m\u001b[0;34m)\u001b[0m\u001b[0;34m\u001b[0m\u001b[0;34m\u001b[0m\u001b[0m\n\u001b[1;32m    201\u001b[0m     return (\n",
      "\u001b[0;32m~/opt/anaconda3/lib/python3.8/site-packages/snowflake/connector/cursor.py\u001b[0m in \u001b[0;36mexecute\u001b[0;34m(self, command, params, _bind_stage, timeout, _exec_async, _do_reset, _put_callback, _put_azure_callback, _put_callback_output_stream, _get_callback, _get_azure_callback, _get_callback_output_stream, _show_progress_bar, _statement_params, _is_internal, _describe_only, _no_results, _use_ijson, _is_put_get, _raise_put_get_error, _force_put_overwrite, file_stream)\u001b[0m\n\u001b[1;32m    719\u001b[0m                 \u001b[0;34m\"sfqid\"\u001b[0m\u001b[0;34m:\u001b[0m \u001b[0mself\u001b[0m\u001b[0;34m.\u001b[0m\u001b[0m_sfqid\u001b[0m\u001b[0;34m,\u001b[0m\u001b[0;34m\u001b[0m\u001b[0;34m\u001b[0m\u001b[0m\n\u001b[1;32m    720\u001b[0m             }\n\u001b[0;32m--> 721\u001b[0;31m             Error.errorhandler_wrapper(\n\u001b[0m\u001b[1;32m    722\u001b[0m                 \u001b[0mself\u001b[0m\u001b[0;34m.\u001b[0m\u001b[0mconnection\u001b[0m\u001b[0;34m,\u001b[0m \u001b[0mself\u001b[0m\u001b[0;34m,\u001b[0m \u001b[0mProgrammingError\u001b[0m\u001b[0;34m,\u001b[0m \u001b[0merrvalue\u001b[0m\u001b[0;34m\u001b[0m\u001b[0;34m\u001b[0m\u001b[0m\n\u001b[1;32m    723\u001b[0m             )\n",
      "\u001b[0;32m~/opt/anaconda3/lib/python3.8/site-packages/snowflake/connector/errors.py\u001b[0m in \u001b[0;36merrorhandler_wrapper\u001b[0;34m(connection, cursor, error_class, error_value)\u001b[0m\n\u001b[1;32m    256\u001b[0m         \u001b[0;32mif\u001b[0m \u001b[0mcursor\u001b[0m \u001b[0;32mis\u001b[0m \u001b[0;32mnot\u001b[0m \u001b[0;32mNone\u001b[0m\u001b[0;34m:\u001b[0m\u001b[0;34m\u001b[0m\u001b[0;34m\u001b[0m\u001b[0m\n\u001b[1;32m    257\u001b[0m             \u001b[0mcursor\u001b[0m\u001b[0;34m.\u001b[0m\u001b[0mmessages\u001b[0m\u001b[0;34m.\u001b[0m\u001b[0mappend\u001b[0m\u001b[0;34m(\u001b[0m\u001b[0;34m(\u001b[0m\u001b[0merror_class\u001b[0m\u001b[0;34m,\u001b[0m \u001b[0merror_value\u001b[0m\u001b[0;34m)\u001b[0m\u001b[0;34m)\u001b[0m\u001b[0;34m\u001b[0m\u001b[0;34m\u001b[0m\u001b[0m\n\u001b[0;32m--> 258\u001b[0;31m             \u001b[0mcursor\u001b[0m\u001b[0;34m.\u001b[0m\u001b[0merrorhandler\u001b[0m\u001b[0;34m(\u001b[0m\u001b[0mconnection\u001b[0m\u001b[0;34m,\u001b[0m \u001b[0mcursor\u001b[0m\u001b[0;34m,\u001b[0m \u001b[0merror_class\u001b[0m\u001b[0;34m,\u001b[0m \u001b[0merror_value\u001b[0m\u001b[0;34m)\u001b[0m\u001b[0;34m\u001b[0m\u001b[0;34m\u001b[0m\u001b[0m\n\u001b[0m\u001b[1;32m    259\u001b[0m             \u001b[0;32mreturn\u001b[0m\u001b[0;34m\u001b[0m\u001b[0;34m\u001b[0m\u001b[0m\n\u001b[1;32m    260\u001b[0m         \u001b[0;32melif\u001b[0m \u001b[0mconnection\u001b[0m \u001b[0;32mis\u001b[0m \u001b[0;32mnot\u001b[0m \u001b[0;32mNone\u001b[0m\u001b[0;34m:\u001b[0m\u001b[0;34m\u001b[0m\u001b[0;34m\u001b[0m\u001b[0m\n",
      "\u001b[0;32m~/opt/anaconda3/lib/python3.8/site-packages/snowflake/connector/errors.py\u001b[0m in \u001b[0;36mdefault_errorhandler\u001b[0;34m(connection, cursor, error_class, error_value)\u001b[0m\n\u001b[1;32m    186\u001b[0m             \u001b[0mA\u001b[0m \u001b[0mSnowflake\u001b[0m \u001b[0merror\u001b[0m\u001b[0;34m.\u001b[0m\u001b[0;34m\u001b[0m\u001b[0;34m\u001b[0m\u001b[0m\n\u001b[1;32m    187\u001b[0m         \"\"\"\n\u001b[0;32m--> 188\u001b[0;31m         raise error_class(\n\u001b[0m\u001b[1;32m    189\u001b[0m             \u001b[0mmsg\u001b[0m\u001b[0;34m=\u001b[0m\u001b[0merror_value\u001b[0m\u001b[0;34m.\u001b[0m\u001b[0mget\u001b[0m\u001b[0;34m(\u001b[0m\u001b[0;34m\"msg\"\u001b[0m\u001b[0;34m)\u001b[0m\u001b[0;34m,\u001b[0m\u001b[0;34m\u001b[0m\u001b[0;34m\u001b[0m\u001b[0m\n\u001b[1;32m    190\u001b[0m             \u001b[0merrno\u001b[0m\u001b[0;34m=\u001b[0m\u001b[0merror_value\u001b[0m\u001b[0;34m.\u001b[0m\u001b[0mget\u001b[0m\u001b[0;34m(\u001b[0m\u001b[0;34m\"errno\"\u001b[0m\u001b[0;34m)\u001b[0m\u001b[0;34m,\u001b[0m\u001b[0;34m\u001b[0m\u001b[0;34m\u001b[0m\u001b[0m\n",
      "\u001b[0;31mProgrammingError\u001b[0m: 000904 (42000): SQL compilation error: error line 1 at position 199\ninvalid identifier 'CONCEPTS'"
     ]
    }
   ],
   "source": [
    "success, nchunks, nrows, _ = write_snowflake(schema, df, table_name)"
   ]
  },
  {
   "cell_type": "code",
   "execution_count": null,
   "id": "a329d5c6-6a90-497e-ba79-37c50273ab4c",
   "metadata": {},
   "outputs": [],
   "source": []
  }
 ],
 "metadata": {
  "kernelspec": {
   "display_name": "Python 3",
   "language": "python",
   "name": "python3"
  },
  "language_info": {
   "codemirror_mode": {
    "name": "ipython",
    "version": 3
   },
   "file_extension": ".py",
   "mimetype": "text/x-python",
   "name": "python",
   "nbconvert_exporter": "python",
   "pygments_lexer": "ipython3",
   "version": "3.8.8"
  }
 },
 "nbformat": 4,
 "nbformat_minor": 5
}
