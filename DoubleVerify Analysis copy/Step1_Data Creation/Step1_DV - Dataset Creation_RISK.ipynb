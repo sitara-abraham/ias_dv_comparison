{
 "cells": [
  {
   "cell_type": "code",
   "execution_count": 1,
   "metadata": {
    "tags": []
   },
   "outputs": [],
   "source": [
    "from contextlib import closing\n",
    "import json\n",
    "import pandas as pd\n",
    "import re\n",
    "import requests\n",
    "import snowflake.connector\n",
    "import time\n",
    "from nltk.corpus import stopwords\n",
    "import string\n",
    "from nltk.tokenize import wordpunct_tokenize as tokenize\n",
    "from nltk.stem.porter import PorterStemmer\n",
    "from sklearn.feature_extraction.text import TfidfVectorizer\n",
    "from scipy.spatial.distance import cosine"
   ]
  },
  {
   "cell_type": "code",
   "execution_count": 2,
   "metadata": {},
   "outputs": [],
   "source": [
    "pd.set_option('display.max_columns', None)\n",
    "pd.set_option('display.max_rows', None)"
   ]
  },
  {
   "cell_type": "code",
   "execution_count": 3,
   "metadata": {},
   "outputs": [],
   "source": [
    "schema = 'REPORTING'"
   ]
  },
  {
   "cell_type": "code",
   "execution_count": 4,
   "metadata": {},
   "outputs": [],
   "source": [
    "sql = \"\"\"\n",
    "        SELECT D.CHANNEL_ID, D.VIDEO_ID, D.SUITABILITY_CATEGORY, D.RISK_TIER, S.TAXONOMY_NAME, \n",
    "        S.SCORE, S.DECISION\n",
    "        FROM prod.analyst.DV_ANALYSIS_3 D\n",
    "        JOIN prod.REPORTING.LATEST_SCORES AS S \n",
    "            ON D.VIDEO_ID = S.CONTENT_ID    \n",
    "      \"\"\""
   ]
  },
  {
   "cell_type": "code",
   "execution_count": 5,
   "metadata": {},
   "outputs": [],
   "source": [
    "def connection(schema):\n",
    "    conn = snowflake.connector.connect(\n",
    "        host=\"localhost\",\n",
    "        port=\"10015\",\n",
    "        user=\"sdm\",\n",
    "        password=\"sdm\",\n",
    "        account=\"dummy\",\n",
    "        protocol=\"http\",\n",
    "        warehouse=\"ENGINEER_WH\",\n",
    "        database=\"PROD\",\n",
    "        schema=schema,\n",
    "    )\n",
    "    return conn\n",
    "\n",
    "def get_results(sql):\n",
    "    conn = connection(schema)\n",
    "    with closing(conn.cursor()) as cursor:\n",
    "        results = conn.cursor().execute(sql)\n",
    "        \n",
    "    # Fetch the result set from the cursor and deliver it as the Pandas DataFrame.\n",
    "    df = results.fetch_pandas_all()\n",
    "    return df"
   ]
  },
  {
   "cell_type": "code",
   "execution_count": 6,
   "metadata": {},
   "outputs": [],
   "source": [
    "df = get_results(sql)"
   ]
  },
  {
   "cell_type": "code",
   "execution_count": 7,
   "metadata": {},
   "outputs": [
    {
     "data": {
      "text/html": [
       "<div>\n",
       "<style scoped>\n",
       "    .dataframe tbody tr th:only-of-type {\n",
       "        vertical-align: middle;\n",
       "    }\n",
       "\n",
       "    .dataframe tbody tr th {\n",
       "        vertical-align: top;\n",
       "    }\n",
       "\n",
       "    .dataframe thead th {\n",
       "        text-align: right;\n",
       "    }\n",
       "</style>\n",
       "<table border=\"1\" class=\"dataframe\">\n",
       "  <thead>\n",
       "    <tr style=\"text-align: right;\">\n",
       "      <th></th>\n",
       "      <th>CHANNEL_ID</th>\n",
       "      <th>VIDEO_ID</th>\n",
       "      <th>SUITABILITY_CATEGORY</th>\n",
       "      <th>RISK_TIER</th>\n",
       "      <th>TAXONOMY_NAME</th>\n",
       "      <th>SCORE</th>\n",
       "      <th>DECISION</th>\n",
       "    </tr>\n",
       "  </thead>\n",
       "  <tbody>\n",
       "    <tr>\n",
       "      <th>count</th>\n",
       "      <td>77348880</td>\n",
       "      <td>77348880</td>\n",
       "      <td>77348880</td>\n",
       "      <td>77348880</td>\n",
       "      <td>77348880</td>\n",
       "      <td>77348880</td>\n",
       "      <td>47672636</td>\n",
       "    </tr>\n",
       "    <tr>\n",
       "      <th>unique</th>\n",
       "      <td>69788</td>\n",
       "      <td>340449</td>\n",
       "      <td>34</td>\n",
       "      <td>4</td>\n",
       "      <td>260</td>\n",
       "      <td>11889404</td>\n",
       "      <td>2</td>\n",
       "    </tr>\n",
       "    <tr>\n",
       "      <th>top</th>\n",
       "      <td>UCUk7VggtJdo9XYTy3Z5QVAw</td>\n",
       "      <td>ubEwaITzTKc</td>\n",
       "      <td>Hobbies &amp; Interests: Video &amp; Computer Games</td>\n",
       "      <td>N/A</td>\n",
       "      <td>Fitness - V1</td>\n",
       "      <td>0</td>\n",
       "      <td>False</td>\n",
       "    </tr>\n",
       "    <tr>\n",
       "      <th>freq</th>\n",
       "      <td>257906</td>\n",
       "      <td>1480</td>\n",
       "      <td>25956782</td>\n",
       "      <td>64678774</td>\n",
       "      <td>417747</td>\n",
       "      <td>18381603</td>\n",
       "      <td>41451576</td>\n",
       "    </tr>\n",
       "  </tbody>\n",
       "</table>\n",
       "</div>"
      ],
      "text/plain": [
       "                      CHANNEL_ID     VIDEO_ID  \\\n",
       "count                   77348880     77348880   \n",
       "unique                     69788       340449   \n",
       "top     UCUk7VggtJdo9XYTy3Z5QVAw  ubEwaITzTKc   \n",
       "freq                      257906         1480   \n",
       "\n",
       "                               SUITABILITY_CATEGORY RISK_TIER TAXONOMY_NAME  \\\n",
       "count                                      77348880  77348880      77348880   \n",
       "unique                                           34         4           260   \n",
       "top     Hobbies & Interests: Video & Computer Games       N/A  Fitness - V1   \n",
       "freq                                       25956782  64678774        417747   \n",
       "\n",
       "           SCORE  DECISION  \n",
       "count   77348880  47672636  \n",
       "unique  11889404         2  \n",
       "top            0     False  \n",
       "freq    18381603  41451576  "
      ]
     },
     "execution_count": 7,
     "metadata": {},
     "output_type": "execute_result"
    }
   ],
   "source": [
    "df.describe()"
   ]
  },
  {
   "cell_type": "code",
   "execution_count": 9,
   "metadata": {},
   "outputs": [],
   "source": [
    "def split_dataframe(df, chunk_size = 1000000): \n",
    "    chunks = list()\n",
    "    num_chunks = len(df) // chunk_size + 1\n",
    "    for i in range(num_chunks):\n",
    "        chunks.append(df[i*chunk_size:(i+1)*chunk_size])\n",
    "    return chunks"
   ]
  },
  {
   "cell_type": "code",
   "execution_count": 10,
   "metadata": {},
   "outputs": [],
   "source": [
    "chunks = split_dataframe(df, 1000000)"
   ]
  },
  {
   "cell_type": "code",
   "execution_count": 11,
   "metadata": {},
   "outputs": [
    {
     "data": {
      "text/plain": [
       "78"
      ]
     },
     "execution_count": 11,
     "metadata": {},
     "output_type": "execute_result"
    }
   ],
   "source": [
    "len(chunks)"
   ]
  },
  {
   "cell_type": "code",
   "execution_count": 12,
   "metadata": {},
   "outputs": [
    {
     "data": {
      "text/html": [
       "<div>\n",
       "<style scoped>\n",
       "    .dataframe tbody tr th:only-of-type {\n",
       "        vertical-align: middle;\n",
       "    }\n",
       "\n",
       "    .dataframe tbody tr th {\n",
       "        vertical-align: top;\n",
       "    }\n",
       "\n",
       "    .dataframe thead th {\n",
       "        text-align: right;\n",
       "    }\n",
       "</style>\n",
       "<table border=\"1\" class=\"dataframe\">\n",
       "  <thead>\n",
       "    <tr style=\"text-align: right;\">\n",
       "      <th></th>\n",
       "      <th>CHANNEL_ID</th>\n",
       "      <th>VIDEO_ID</th>\n",
       "      <th>SUITABILITY_CATEGORY</th>\n",
       "      <th>RISK_TIER</th>\n",
       "      <th>TAXONOMY_NAME</th>\n",
       "      <th>SCORE</th>\n",
       "      <th>DECISION</th>\n",
       "    </tr>\n",
       "  </thead>\n",
       "  <tbody>\n",
       "    <tr>\n",
       "      <th>0</th>\n",
       "      <td>UCJZCTuXWrrJflyNvOK1LCMQ</td>\n",
       "      <td>wZnhqv1nSUQ</td>\n",
       "      <td>Automotive</td>\n",
       "      <td>N/A</td>\n",
       "      <td>Green Living - V1</td>\n",
       "      <td>0.083816774</td>\n",
       "      <td>None</td>\n",
       "    </tr>\n",
       "    <tr>\n",
       "      <th>1</th>\n",
       "      <td>UCiytbL7aJQ_ak05CWfnOqgQ</td>\n",
       "      <td>bGYqHwIZAl0</td>\n",
       "      <td>Hobbies &amp; Interests: Video &amp; Computer Games</td>\n",
       "      <td>N/A</td>\n",
       "      <td>Green Living - V1</td>\n",
       "      <td>0.062662356</td>\n",
       "      <td>None</td>\n",
       "    </tr>\n",
       "    <tr>\n",
       "      <th>2</th>\n",
       "      <td>UCiytbL7aJQ_ak05CWfnOqgQ</td>\n",
       "      <td>bGYqHwIZAl0</td>\n",
       "      <td>Hobbies &amp; Interests</td>\n",
       "      <td>N/A</td>\n",
       "      <td>Green Living - V1</td>\n",
       "      <td>0.062662356</td>\n",
       "      <td>None</td>\n",
       "    </tr>\n",
       "    <tr>\n",
       "      <th>3</th>\n",
       "      <td>UCaTznQhurW5AaiYPbhEA-KA</td>\n",
       "      <td>Ge3aKEmZcqY</td>\n",
       "      <td>Education</td>\n",
       "      <td>N/A</td>\n",
       "      <td>Rock Music - V1</td>\n",
       "      <td>0.054847192</td>\n",
       "      <td>None</td>\n",
       "    </tr>\n",
       "    <tr>\n",
       "      <th>4</th>\n",
       "      <td>UCauDySKxJnYuKmkMqcs5--w</td>\n",
       "      <td>F9-BIUCosmQ</td>\n",
       "      <td>Profanity</td>\n",
       "      <td>Medium Risk</td>\n",
       "      <td>Japanese Travel &amp; Tourism - V1</td>\n",
       "      <td>0.074226685</td>\n",
       "      <td>None</td>\n",
       "    </tr>\n",
       "  </tbody>\n",
       "</table>\n",
       "</div>"
      ],
      "text/plain": [
       "                 CHANNEL_ID     VIDEO_ID  \\\n",
       "0  UCJZCTuXWrrJflyNvOK1LCMQ  wZnhqv1nSUQ   \n",
       "1  UCiytbL7aJQ_ak05CWfnOqgQ  bGYqHwIZAl0   \n",
       "2  UCiytbL7aJQ_ak05CWfnOqgQ  bGYqHwIZAl0   \n",
       "3  UCaTznQhurW5AaiYPbhEA-KA  Ge3aKEmZcqY   \n",
       "4  UCauDySKxJnYuKmkMqcs5--w  F9-BIUCosmQ   \n",
       "\n",
       "                          SUITABILITY_CATEGORY    RISK_TIER  \\\n",
       "0                                   Automotive          N/A   \n",
       "1  Hobbies & Interests: Video & Computer Games          N/A   \n",
       "2                          Hobbies & Interests          N/A   \n",
       "3                                    Education          N/A   \n",
       "4                                    Profanity  Medium Risk   \n",
       "\n",
       "                    TAXONOMY_NAME        SCORE DECISION  \n",
       "0               Green Living - V1  0.083816774     None  \n",
       "1               Green Living - V1  0.062662356     None  \n",
       "2               Green Living - V1  0.062662356     None  \n",
       "3                 Rock Music - V1  0.054847192     None  \n",
       "4  Japanese Travel & Tourism - V1  0.074226685     None  "
      ]
     },
     "execution_count": 12,
     "metadata": {},
     "output_type": "execute_result"
    }
   ],
   "source": [
    "chunks[0].head()"
   ]
  },
  {
   "cell_type": "code",
   "execution_count": 13,
   "metadata": {
    "collapsed": true,
    "jupyter": {
     "outputs_hidden": true
    },
    "tags": []
   },
   "outputs": [
    {
     "name": "stderr",
     "output_type": "stream",
     "text": [
      "/Users/onb/opt/anaconda3/lib/python3.8/site-packages/pandas/core/frame.py:3191: SettingWithCopyWarning: \n",
      "A value is trying to be set on a copy of a slice from a DataFrame.\n",
      "Try using .loc[row_indexer,col_indexer] = value instead\n",
      "\n",
      "See the caveats in the documentation: https://pandas.pydata.org/pandas-docs/stable/user_guide/indexing.html#returning-a-view-versus-a-copy\n",
      "  self[k1] = value[k2]\n",
      "<ipython-input-13-448f57c7eca4>:5: SettingWithCopyWarning: \n",
      "A value is trying to be set on a copy of a slice from a DataFrame.\n",
      "Try using .loc[row_indexer,col_indexer] = value instead\n",
      "\n",
      "See the caveats in the documentation: https://pandas.pydata.org/pandas-docs/stable/user_guide/indexing.html#returning-a-view-versus-a-copy\n",
      "  i['SCORE'] = i['SCORE'].astype(float)\n"
     ]
    }
   ],
   "source": [
    "c2 = []\n",
    "\n",
    "for i in chunks:\n",
    "    i[['CHANNEL_ID','VIDEO_ID']] = i[['CHANNEL_ID','VIDEO_ID']].astype(str)\n",
    "    i['SCORE'] = i['SCORE'].astype(float)\n",
    "    c2.append(i)"
   ]
  },
  {
   "cell_type": "code",
   "execution_count": 14,
   "metadata": {
    "collapsed": true,
    "jupyter": {
     "outputs_hidden": true
    },
    "tags": []
   },
   "outputs": [
    {
     "name": "stderr",
     "output_type": "stream",
     "text": [
      "<ipython-input-14-861952d55e7a>:9: SettingWithCopyWarning: \n",
      "A value is trying to be set on a copy of a slice from a DataFrame.\n",
      "Try using .loc[row_indexer,col_indexer] = value instead\n",
      "\n",
      "See the caveats in the documentation: https://pandas.pydata.org/pandas-docs/stable/user_guide/indexing.html#returning-a-view-versus-a-copy\n",
      "  i['DV_RISK'] = DV_RISK\n",
      "/Users/onb/opt/anaconda3/lib/python3.8/site-packages/pandas/core/frame.py:4308: SettingWithCopyWarning: \n",
      "A value is trying to be set on a copy of a slice from a DataFrame\n",
      "\n",
      "See the caveats in the documentation: https://pandas.pydata.org/pandas-docs/stable/user_guide/indexing.html#returning-a-view-versus-a-copy\n",
      "  return super().drop(\n"
     ]
    }
   ],
   "source": [
    "for i in c2:\n",
    "    DV_RISK = []\n",
    "\n",
    "    for x in i['RISK_TIER']:\n",
    "        if x == 'N/A':\n",
    "            DV_RISK.append('Minimal')\n",
    "        else:\n",
    "            DV_RISK.append(x)\n",
    "    i['DV_RISK'] = DV_RISK\n",
    "    i.drop('RISK_TIER', inplace=True, axis = 1)"
   ]
  },
  {
   "cell_type": "code",
   "execution_count": 15,
   "metadata": {},
   "outputs": [],
   "source": [
    "import math\n",
    "import re\n",
    "from collections import Counter\n",
    "import pandas as pd\n",
    "\n",
    "WORD = re.compile(r\"\\w+\")\n",
    "\n",
    "\n",
    "def get_cosine(vec1, vec2):\n",
    "    intersection = set(vec1.keys()) & set(vec2.keys())\n",
    "    numerator = sum([vec1[x] * vec2[x] for x in intersection])\n",
    "\n",
    "    sum1 = sum([vec1[x] ** 2 for x in list(vec1.keys())])\n",
    "    sum2 = sum([vec2[x] ** 2 for x in list(vec2.keys())])\n",
    "    denominator = math.sqrt(sum1) * math.sqrt(sum2)\n",
    "\n",
    "    if not denominator:\n",
    "        return 0.0\n",
    "    else:\n",
    "        return float(numerator) / denominator\n",
    "\n",
    "\n",
    "def text_to_vector(text):\n",
    "    words = WORD.findall(text)\n",
    "    return Counter(words)"
   ]
  },
  {
   "cell_type": "code",
   "execution_count": 16,
   "metadata": {
    "collapsed": true,
    "jupyter": {
     "outputs_hidden": true
    },
    "tags": []
   },
   "outputs": [
    {
     "name": "stderr",
     "output_type": "stream",
     "text": [
      "<ipython-input-16-59455846335a>:2: SettingWithCopyWarning: \n",
      "A value is trying to be set on a copy of a slice from a DataFrame.\n",
      "Try using .loc[row_indexer,col_indexer] = value instead\n",
      "\n",
      "See the caveats in the documentation: https://pandas.pydata.org/pandas-docs/stable/user_guide/indexing.html#returning-a-view-versus-a-copy\n",
      "  i['vector1']=i['SUITABILITY_CATEGORY'].apply(lambda x: text_to_vector(x))\n",
      "<ipython-input-16-59455846335a>:3: SettingWithCopyWarning: \n",
      "A value is trying to be set on a copy of a slice from a DataFrame.\n",
      "Try using .loc[row_indexer,col_indexer] = value instead\n",
      "\n",
      "See the caveats in the documentation: https://pandas.pydata.org/pandas-docs/stable/user_guide/indexing.html#returning-a-view-versus-a-copy\n",
      "  i['vector2']=i['TAXONOMY_NAME'].apply(lambda x: text_to_vector(x))\n",
      "<ipython-input-16-59455846335a>:4: SettingWithCopyWarning: \n",
      "A value is trying to be set on a copy of a slice from a DataFrame.\n",
      "Try using .loc[row_indexer,col_indexer] = value instead\n",
      "\n",
      "See the caveats in the documentation: https://pandas.pydata.org/pandas-docs/stable/user_guide/indexing.html#returning-a-view-versus-a-copy\n",
      "  i['simscore']=i.apply(lambda x: get_cosine(x['vector1'],x['vector2']),axis=1)\n"
     ]
    }
   ],
   "source": [
    "for i in c2:    \n",
    "    i['vector1']=i['SUITABILITY_CATEGORY'].apply(lambda x: text_to_vector(x)) \n",
    "    i['vector2']=i['TAXONOMY_NAME'].apply(lambda x: text_to_vector(x)) \n",
    "    i['simscore']=i.apply(lambda x: get_cosine(x['vector1'],x['vector2']),axis=1)"
   ]
  },
  {
   "cell_type": "code",
   "execution_count": null,
   "metadata": {},
   "outputs": [],
   "source": []
  },
  {
   "cell_type": "code",
   "execution_count": 17,
   "metadata": {},
   "outputs": [],
   "source": [
    "rsd = pd.concat(c2)"
   ]
  },
  {
   "cell_type": "code",
   "execution_count": 18,
   "metadata": {},
   "outputs": [
    {
     "data": {
      "text/html": [
       "<div>\n",
       "<style scoped>\n",
       "    .dataframe tbody tr th:only-of-type {\n",
       "        vertical-align: middle;\n",
       "    }\n",
       "\n",
       "    .dataframe tbody tr th {\n",
       "        vertical-align: top;\n",
       "    }\n",
       "\n",
       "    .dataframe thead th {\n",
       "        text-align: right;\n",
       "    }\n",
       "</style>\n",
       "<table border=\"1\" class=\"dataframe\">\n",
       "  <thead>\n",
       "    <tr style=\"text-align: right;\">\n",
       "      <th></th>\n",
       "      <th>SCORE</th>\n",
       "      <th>simscore</th>\n",
       "    </tr>\n",
       "  </thead>\n",
       "  <tbody>\n",
       "    <tr>\n",
       "      <th>count</th>\n",
       "      <td>7.734888e+07</td>\n",
       "      <td>7.734888e+07</td>\n",
       "    </tr>\n",
       "    <tr>\n",
       "      <th>mean</th>\n",
       "      <td>1.298421e-01</td>\n",
       "      <td>5.121532e-03</td>\n",
       "    </tr>\n",
       "    <tr>\n",
       "      <th>std</th>\n",
       "      <td>2.640623e-01</td>\n",
       "      <td>4.612644e-02</td>\n",
       "    </tr>\n",
       "    <tr>\n",
       "      <th>min</th>\n",
       "      <td>0.000000e+00</td>\n",
       "      <td>0.000000e+00</td>\n",
       "    </tr>\n",
       "    <tr>\n",
       "      <th>25%</th>\n",
       "      <td>1.297559e-02</td>\n",
       "      <td>0.000000e+00</td>\n",
       "    </tr>\n",
       "    <tr>\n",
       "      <th>50%</th>\n",
       "      <td>4.756835e-02</td>\n",
       "      <td>0.000000e+00</td>\n",
       "    </tr>\n",
       "    <tr>\n",
       "      <th>75%</th>\n",
       "      <td>7.676369e-02</td>\n",
       "      <td>0.000000e+00</td>\n",
       "    </tr>\n",
       "    <tr>\n",
       "      <th>max</th>\n",
       "      <td>1.000000e+00</td>\n",
       "      <td>7.071068e-01</td>\n",
       "    </tr>\n",
       "  </tbody>\n",
       "</table>\n",
       "</div>"
      ],
      "text/plain": [
       "              SCORE      simscore\n",
       "count  7.734888e+07  7.734888e+07\n",
       "mean   1.298421e-01  5.121532e-03\n",
       "std    2.640623e-01  4.612644e-02\n",
       "min    0.000000e+00  0.000000e+00\n",
       "25%    1.297559e-02  0.000000e+00\n",
       "50%    4.756835e-02  0.000000e+00\n",
       "75%    7.676369e-02  0.000000e+00\n",
       "max    1.000000e+00  7.071068e-01"
      ]
     },
     "execution_count": 18,
     "metadata": {},
     "output_type": "execute_result"
    }
   ],
   "source": [
    "rsd.describe()"
   ]
  },
  {
   "cell_type": "code",
   "execution_count": 21,
   "metadata": {
    "jupyter": {
     "source_hidden": true
    },
    "tags": []
   },
   "outputs": [],
   "source": [
    "#dataframe where DV has a safety category\n",
    "\n",
    "dv_safety_flag = rsd[rsd['DV_RISK'] != 'Minimal'][:100000]\n",
    "dv_safety_flag.to_pickle('DV_Safety_Flag_Risk_Data.pkl')"
   ]
  },
  {
   "cell_type": "code",
   "execution_count": 23,
   "metadata": {},
   "outputs": [],
   "source": [
    "#dataframe where zefr has a safety category\n",
    "\n",
    "zefr_safety_flag = rsd[(rsd['TAXONOMY_NAME'].str.contains(\"Brand Safety\")) | (rsd['TAXONOMY_NAME'].str.contains(\"4A\"))][:100000]\n",
    "zefr_safety_flag.to_pickle('ZEFR_Safety_Flag_Risk_Data.pkl')"
   ]
  },
  {
   "cell_type": "code",
   "execution_count": 17,
   "metadata": {
    "jupyter": {
     "source_hidden": true
    },
    "tags": []
   },
   "outputs": [],
   "source": [
    "#dataframe where DV has a safety category, but zefr/garm do not\n",
    "\n",
    "dv_safety_only = rsd[(rsd['DV_RISK'] != 'Minimal') & ((~rsd['TAXONOMY_NAME'].str.contains(\"Brand Safety\")) & (~rsd['TAXONOMY_NAME'].str.contains(\"4A\")))][:100000]\n",
    "dv_safety_only.to_pickle('DV_Safety_Only_Risk_Data.pkl')"
   ]
  },
  {
   "cell_type": "code",
   "execution_count": 18,
   "metadata": {
    "jupyter": {
     "source_hidden": true
    },
    "tags": []
   },
   "outputs": [],
   "source": [
    "#dataframe where DV has a safety category and zefr/garm mention brand safety or 4A\n",
    "\n",
    "dv_zefr_safety = rsd[(rsd['DV_RISK'] != 'Minimal') & ((rsd['TAXONOMY_NAME'].str.contains(\"Brand Safety\")) | (rsd['TAXONOMY_NAME'].str.contains(\"4A\")))][:100000]\n",
    "dv_zefr_safety.to_pickle('DV_Zefr_Safety_Risk_Data.pkl')"
   ]
  },
  {
   "cell_type": "code",
   "execution_count": 19,
   "metadata": {},
   "outputs": [],
   "source": [
    "#dataframe where DV and zefr have similar concept categories\n",
    "\n",
    "dv_zefr_similar_concepts = rsd[rsd['SCORE']>0.5][:100000]\n",
    "dv_zefr_similar_concepts.to_pickle('DV_Zefr_SimilarConcept_Risk_Data.pkl')\n",
    "\n",
    "#dataframe where DV and zefr have disparate concept categories\n",
    "\n",
    "dv_zefr_diff_concepts = rsd[rsd['SCORE']==0][:100000]\n",
    "dv_zefr_diff_concepts.to_pickle('DV_Zefr_DiffConcept_Risk_Data.pkl')"
   ]
  },
  {
   "cell_type": "code",
   "execution_count": null,
   "metadata": {},
   "outputs": [],
   "source": []
  },
  {
   "cell_type": "code",
   "execution_count": null,
   "metadata": {},
   "outputs": [],
   "source": []
  },
  {
   "cell_type": "code",
   "execution_count": null,
   "metadata": {},
   "outputs": [],
   "source": []
  },
  {
   "cell_type": "code",
   "execution_count": null,
   "metadata": {},
   "outputs": [],
   "source": []
  },
  {
   "cell_type": "code",
   "execution_count": null,
   "metadata": {},
   "outputs": [],
   "source": []
  },
  {
   "cell_type": "code",
   "execution_count": null,
   "metadata": {},
   "outputs": [],
   "source": []
  },
  {
   "cell_type": "code",
   "execution_count": null,
   "metadata": {},
   "outputs": [],
   "source": []
  },
  {
   "cell_type": "code",
   "execution_count": null,
   "metadata": {},
   "outputs": [],
   "source": []
  }
 ],
 "metadata": {
  "kernelspec": {
   "display_name": "Python 3",
   "language": "python",
   "name": "python3"
  },
  "language_info": {
   "codemirror_mode": {
    "name": "ipython",
    "version": 3
   },
   "file_extension": ".py",
   "mimetype": "text/x-python",
   "name": "python",
   "nbconvert_exporter": "python",
   "pygments_lexer": "ipython3",
   "version": "3.8.8"
  }
 },
 "nbformat": 4,
 "nbformat_minor": 4
}
