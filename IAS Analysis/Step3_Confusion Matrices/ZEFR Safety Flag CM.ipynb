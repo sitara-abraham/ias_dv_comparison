{
 "cells": [
  {
   "cell_type": "code",
   "execution_count": 1,
   "id": "7d0a1f7a-009a-4bc2-8226-bf97748477dc",
   "metadata": {},
   "outputs": [],
   "source": [
    "import pandas as pd\n",
    "import re"
   ]
  },
  {
   "cell_type": "code",
   "execution_count": 2,
   "id": "1d1fbe61-dc09-4b0b-896f-45dad688e02b",
   "metadata": {},
   "outputs": [],
   "source": [
    "df = pd.read_pickle('../Data/ZEFR_Safety_Flag_Risk_Data.pkl')"
   ]
  },
  {
   "cell_type": "code",
   "execution_count": 3,
   "id": "45188241-3768-4cdb-bb7e-a6668957d07a",
   "metadata": {},
   "outputs": [],
   "source": [
    "#df.columns"
   ]
  },
  {
   "cell_type": "code",
   "execution_count": 4,
   "id": "ef9be999-994c-4302-a007-53369b1c6fe3",
   "metadata": {},
   "outputs": [],
   "source": [
    "df.drop(['vector1','vector2'], axis = 1, inplace = True)"
   ]
  },
  {
   "cell_type": "code",
   "execution_count": 5,
   "id": "edad876e-b0d2-47db-bfb0-4b8d35fac5ca",
   "metadata": {},
   "outputs": [],
   "source": [
    "concepts = []\n",
    "\n",
    "for txt in df['TAXONOMY_NAME']:\n",
    "    if '4A' in txt:\n",
    "        result =  re.search('- (.*) -', txt)\n",
    "        concepts.append(result.group(1))\n",
    "    else:\n",
    "        concepts.append(txt)"
   ]
  },
  {
   "cell_type": "code",
   "execution_count": 6,
   "id": "432047ca-6e89-45ed-b846-fde0f18d6e3e",
   "metadata": {},
   "outputs": [],
   "source": [
    "df['CONCEPTS'] = concepts"
   ]
  },
  {
   "cell_type": "code",
   "execution_count": 7,
   "id": "3525fd46-ff85-4a94-bcc2-e7b14c7645ef",
   "metadata": {},
   "outputs": [],
   "source": [
    "ZEFR_RISK = []\n",
    "\n",
    "for txt in df['TAXONOMY_NAME']:\n",
    "    if 'Minimal' in txt:\n",
    "        ZEFR_RISK.append('Minimal')\n",
    "    elif 'Low' in txt:\n",
    "        ZEFR_RISK.append('Low')\n",
    "    elif 'Medium' in txt:\n",
    "        ZEFR_RISK.append('Medium')\n",
    "    elif 'High' in txt:\n",
    "        ZEFR_RISK.append('High')\n",
    "    else:\n",
    "        ZEFR_RISK.append('No GARM')"
   ]
  },
  {
   "cell_type": "code",
   "execution_count": 8,
   "id": "47893033-7a05-4db3-bbec-e306dcdc9782",
   "metadata": {},
   "outputs": [],
   "source": [
    "df['ZEFR_RISK'] = ZEFR_RISK"
   ]
  },
  {
   "cell_type": "code",
   "execution_count": 9,
   "id": "983a2561-c978-4c85-a0ee-fcc917401498",
   "metadata": {},
   "outputs": [
    {
     "data": {
      "text/html": [
       "<div>\n",
       "<style scoped>\n",
       "    .dataframe tbody tr th:only-of-type {\n",
       "        vertical-align: middle;\n",
       "    }\n",
       "\n",
       "    .dataframe tbody tr th {\n",
       "        vertical-align: top;\n",
       "    }\n",
       "\n",
       "    .dataframe thead th {\n",
       "        text-align: right;\n",
       "    }\n",
       "</style>\n",
       "<table border=\"1\" class=\"dataframe\">\n",
       "  <thead>\n",
       "    <tr style=\"text-align: right;\">\n",
       "      <th></th>\n",
       "      <th>CHANNEL_ID</th>\n",
       "      <th>VIDEO_ID</th>\n",
       "      <th>IAS_CATEGORY</th>\n",
       "      <th>IAS_RISK</th>\n",
       "      <th>TAXONOMY_NAME</th>\n",
       "      <th>SCORE</th>\n",
       "      <th>DECISION</th>\n",
       "      <th>simscore</th>\n",
       "      <th>CONCEPTS</th>\n",
       "      <th>ZEFR_RISK</th>\n",
       "    </tr>\n",
       "  </thead>\n",
       "  <tbody>\n",
       "    <tr>\n",
       "      <th>0</th>\n",
       "      <td>UCYHLd3HtyhRYsD5QMxsjRJA</td>\n",
       "      <td>_25OArlHkYU</td>\n",
       "      <td>Film &amp; Animation</td>\n",
       "      <td>Medium</td>\n",
       "      <td>4A - Crime - [Minimal]</td>\n",
       "      <td>1</td>\n",
       "      <td>True</td>\n",
       "      <td>0.0</td>\n",
       "      <td>Crime</td>\n",
       "      <td>Minimal</td>\n",
       "    </tr>\n",
       "    <tr>\n",
       "      <th>1</th>\n",
       "      <td>UCj1J3QuIftjOq9iv_rr7Egw</td>\n",
       "      <td>zwKnHMwVJ50</td>\n",
       "      <td>Gaming</td>\n",
       "      <td>Medium</td>\n",
       "      <td>4A - Online Piracy - [Minimal]</td>\n",
       "      <td>1</td>\n",
       "      <td>True</td>\n",
       "      <td>0.0</td>\n",
       "      <td>Online Piracy</td>\n",
       "      <td>Minimal</td>\n",
       "    </tr>\n",
       "    <tr>\n",
       "      <th>4</th>\n",
       "      <td>UCvgfXK4nTYKudb0rFR6noLA</td>\n",
       "      <td>rZ5IgMydsT4</td>\n",
       "      <td>Sports</td>\n",
       "      <td>Medium</td>\n",
       "      <td>4A - Terrorism - [Minimal]</td>\n",
       "      <td>1</td>\n",
       "      <td>True</td>\n",
       "      <td>0.0</td>\n",
       "      <td>Terrorism</td>\n",
       "      <td>Minimal</td>\n",
       "    </tr>\n",
       "    <tr>\n",
       "      <th>5</th>\n",
       "      <td>UCLjodVTY_kZzd3cQ7D82DhA</td>\n",
       "      <td>K4wRbQHW1ds</td>\n",
       "      <td>Howto &amp; Style</td>\n",
       "      <td>Medium</td>\n",
       "      <td>4A - Online Piracy - [Minimal]</td>\n",
       "      <td>1</td>\n",
       "      <td>True</td>\n",
       "      <td>0.0</td>\n",
       "      <td>Online Piracy</td>\n",
       "      <td>Minimal</td>\n",
       "    </tr>\n",
       "    <tr>\n",
       "      <th>6</th>\n",
       "      <td>UCdaluuQuE5GoOlULA2PGKmA</td>\n",
       "      <td>zmOMVrzWEXs</td>\n",
       "      <td>Gaming</td>\n",
       "      <td>Medium</td>\n",
       "      <td>4A - Social Issues - [Minimal]</td>\n",
       "      <td>1</td>\n",
       "      <td>True</td>\n",
       "      <td>0.0</td>\n",
       "      <td>Social Issues</td>\n",
       "      <td>Minimal</td>\n",
       "    </tr>\n",
       "  </tbody>\n",
       "</table>\n",
       "</div>"
      ],
      "text/plain": [
       "                  CHANNEL_ID     VIDEO_ID      IAS_CATEGORY IAS_RISK  \\\n",
       "0  UCYHLd3HtyhRYsD5QMxsjRJA   _25OArlHkYU  Film & Animation   Medium   \n",
       "1  UCj1J3QuIftjOq9iv_rr7Egw   zwKnHMwVJ50            Gaming   Medium   \n",
       "4  UCvgfXK4nTYKudb0rFR6noLA   rZ5IgMydsT4            Sports   Medium   \n",
       "5  UCLjodVTY_kZzd3cQ7D82DhA   K4wRbQHW1ds     Howto & Style   Medium   \n",
       "6  UCdaluuQuE5GoOlULA2PGKmA   zmOMVrzWEXs            Gaming   Medium   \n",
       "\n",
       "                    TAXONOMY_NAME SCORE  DECISION  simscore       CONCEPTS  \\\n",
       "0          4A - Crime - [Minimal]     1      True       0.0          Crime   \n",
       "1  4A - Online Piracy - [Minimal]     1      True       0.0  Online Piracy   \n",
       "4      4A - Terrorism - [Minimal]     1      True       0.0      Terrorism   \n",
       "5  4A - Online Piracy - [Minimal]     1      True       0.0  Online Piracy   \n",
       "6  4A - Social Issues - [Minimal]     1      True       0.0  Social Issues   \n",
       "\n",
       "  ZEFR_RISK  \n",
       "0   Minimal  \n",
       "1   Minimal  \n",
       "4   Minimal  \n",
       "5   Minimal  \n",
       "6   Minimal  "
      ]
     },
     "execution_count": 9,
     "metadata": {},
     "output_type": "execute_result"
    }
   ],
   "source": [
    "df.head()"
   ]
  },
  {
   "cell_type": "code",
   "execution_count": 10,
   "id": "a4ad7a35-df85-4f10-a373-93df5b21e036",
   "metadata": {},
   "outputs": [],
   "source": [
    "same_risk = []\n",
    "\n",
    "for i,v in enumerate(df['TAXONOMY_NAME']):\n",
    "    if 'Minimal' in df['IAS_RISK'].iloc[i] and 'Minimal' in v:\n",
    "        same_risk.append(1)\n",
    "    elif 'Low' in df['IAS_RISK'].iloc[i] and 'Low' in v:\n",
    "        same_risk.append(1)  \n",
    "    elif 'Medium' in df['IAS_RISK'].iloc[i] and 'Medium' in v:\n",
    "        same_risk.append(1) \n",
    "    elif 'High' in df['IAS_RISK'].iloc[i] and 'High' in v or 'Floor' in v:\n",
    "        same_risk.append(1) \n",
    "    else:\n",
    "        same_risk.append(0)\n",
    "    "
   ]
  },
  {
   "cell_type": "code",
   "execution_count": 11,
   "id": "421f4365-81f8-4cad-86af-e161ba029ac2",
   "metadata": {},
   "outputs": [],
   "source": [
    "df['SAME_RISK'] = same_risk"
   ]
  },
  {
   "cell_type": "code",
   "execution_count": 12,
   "id": "09785a56-bb41-4f61-b20e-e6c6169002de",
   "metadata": {},
   "outputs": [],
   "source": [
    "#df['TAXONOMY_NAME'].unique()"
   ]
  },
  {
   "cell_type": "code",
   "execution_count": 13,
   "id": "ce06b308-f8e0-4208-b4e1-d98b32f66726",
   "metadata": {},
   "outputs": [],
   "source": [
    "zefr_expected = []\n",
    "\n",
    "for i in df['ZEFR_RISK']:\n",
    "    if 'High' in i or 'Medium' in i or 'Low' in i or 'Floor' in i:\n",
    "        zefr_expected.append(1)\n",
    "    else:\n",
    "        zefr_expected.append(0)"
   ]
  },
  {
   "cell_type": "code",
   "execution_count": 15,
   "id": "e806769f-7f38-4cb3-b6f2-ad84a98ccff9",
   "metadata": {},
   "outputs": [],
   "source": [
    "predicted = []\n",
    "\n",
    "for i in df['IAS_RISK']:\n",
    "    if i == 'High' or i == 'Medium':\n",
    "        predicted.append(1)\n",
    "    else:\n",
    "        predicted.append(0)"
   ]
  },
  {
   "cell_type": "code",
   "execution_count": 19,
   "id": "a8d83c70-874a-441a-841a-52dfa8538a71",
   "metadata": {},
   "outputs": [],
   "source": [
    "df['zefr_expected'] = zefr_expected\n",
    "df['predicted'] = predicted"
   ]
  },
  {
   "cell_type": "code",
   "execution_count": 20,
   "id": "0e218ff5-963d-4790-b08d-6b3b0322fc43",
   "metadata": {},
   "outputs": [],
   "source": [
    "df.drop_duplicates(inplace = True)"
   ]
  },
  {
   "cell_type": "code",
   "execution_count": 21,
   "id": "d642828e-837d-48f9-aca0-f74e4b5a4950",
   "metadata": {},
   "outputs": [
    {
     "data": {
      "text/html": [
       "<div>\n",
       "<style scoped>\n",
       "    .dataframe tbody tr th:only-of-type {\n",
       "        vertical-align: middle;\n",
       "    }\n",
       "\n",
       "    .dataframe tbody tr th {\n",
       "        vertical-align: top;\n",
       "    }\n",
       "\n",
       "    .dataframe thead th {\n",
       "        text-align: right;\n",
       "    }\n",
       "</style>\n",
       "<table border=\"1\" class=\"dataframe\">\n",
       "  <thead>\n",
       "    <tr style=\"text-align: right;\">\n",
       "      <th></th>\n",
       "      <th>CHANNEL_ID</th>\n",
       "      <th>VIDEO_ID</th>\n",
       "      <th>IAS_CATEGORY</th>\n",
       "      <th>IAS_RISK</th>\n",
       "      <th>TAXONOMY_NAME</th>\n",
       "      <th>SCORE</th>\n",
       "      <th>DECISION</th>\n",
       "      <th>simscore</th>\n",
       "      <th>CONCEPTS</th>\n",
       "      <th>ZEFR_RISK</th>\n",
       "      <th>SAME_RISK</th>\n",
       "      <th>zefr_expected</th>\n",
       "      <th>predicted</th>\n",
       "    </tr>\n",
       "  </thead>\n",
       "  <tbody>\n",
       "    <tr>\n",
       "      <th>0</th>\n",
       "      <td>UCYHLd3HtyhRYsD5QMxsjRJA</td>\n",
       "      <td>_25OArlHkYU</td>\n",
       "      <td>Film &amp; Animation</td>\n",
       "      <td>Medium</td>\n",
       "      <td>4A - Crime - [Minimal]</td>\n",
       "      <td>1</td>\n",
       "      <td>True</td>\n",
       "      <td>0.0</td>\n",
       "      <td>Crime</td>\n",
       "      <td>Minimal</td>\n",
       "      <td>0</td>\n",
       "      <td>0</td>\n",
       "      <td>1</td>\n",
       "    </tr>\n",
       "    <tr>\n",
       "      <th>1</th>\n",
       "      <td>UCj1J3QuIftjOq9iv_rr7Egw</td>\n",
       "      <td>zwKnHMwVJ50</td>\n",
       "      <td>Gaming</td>\n",
       "      <td>Medium</td>\n",
       "      <td>4A - Online Piracy - [Minimal]</td>\n",
       "      <td>1</td>\n",
       "      <td>True</td>\n",
       "      <td>0.0</td>\n",
       "      <td>Online Piracy</td>\n",
       "      <td>Minimal</td>\n",
       "      <td>0</td>\n",
       "      <td>0</td>\n",
       "      <td>1</td>\n",
       "    </tr>\n",
       "    <tr>\n",
       "      <th>4</th>\n",
       "      <td>UCvgfXK4nTYKudb0rFR6noLA</td>\n",
       "      <td>rZ5IgMydsT4</td>\n",
       "      <td>Sports</td>\n",
       "      <td>Medium</td>\n",
       "      <td>4A - Terrorism - [Minimal]</td>\n",
       "      <td>1</td>\n",
       "      <td>True</td>\n",
       "      <td>0.0</td>\n",
       "      <td>Terrorism</td>\n",
       "      <td>Minimal</td>\n",
       "      <td>0</td>\n",
       "      <td>0</td>\n",
       "      <td>1</td>\n",
       "    </tr>\n",
       "    <tr>\n",
       "      <th>5</th>\n",
       "      <td>UCLjodVTY_kZzd3cQ7D82DhA</td>\n",
       "      <td>K4wRbQHW1ds</td>\n",
       "      <td>Howto &amp; Style</td>\n",
       "      <td>Medium</td>\n",
       "      <td>4A - Online Piracy - [Minimal]</td>\n",
       "      <td>1</td>\n",
       "      <td>True</td>\n",
       "      <td>0.0</td>\n",
       "      <td>Online Piracy</td>\n",
       "      <td>Minimal</td>\n",
       "      <td>0</td>\n",
       "      <td>0</td>\n",
       "      <td>1</td>\n",
       "    </tr>\n",
       "    <tr>\n",
       "      <th>6</th>\n",
       "      <td>UCdaluuQuE5GoOlULA2PGKmA</td>\n",
       "      <td>zmOMVrzWEXs</td>\n",
       "      <td>Gaming</td>\n",
       "      <td>Medium</td>\n",
       "      <td>4A - Social Issues - [Minimal]</td>\n",
       "      <td>1</td>\n",
       "      <td>True</td>\n",
       "      <td>0.0</td>\n",
       "      <td>Social Issues</td>\n",
       "      <td>Minimal</td>\n",
       "      <td>0</td>\n",
       "      <td>0</td>\n",
       "      <td>1</td>\n",
       "    </tr>\n",
       "  </tbody>\n",
       "</table>\n",
       "</div>"
      ],
      "text/plain": [
       "                  CHANNEL_ID     VIDEO_ID      IAS_CATEGORY IAS_RISK  \\\n",
       "0  UCYHLd3HtyhRYsD5QMxsjRJA   _25OArlHkYU  Film & Animation   Medium   \n",
       "1  UCj1J3QuIftjOq9iv_rr7Egw   zwKnHMwVJ50            Gaming   Medium   \n",
       "4  UCvgfXK4nTYKudb0rFR6noLA   rZ5IgMydsT4            Sports   Medium   \n",
       "5  UCLjodVTY_kZzd3cQ7D82DhA   K4wRbQHW1ds     Howto & Style   Medium   \n",
       "6  UCdaluuQuE5GoOlULA2PGKmA   zmOMVrzWEXs            Gaming   Medium   \n",
       "\n",
       "                    TAXONOMY_NAME SCORE  DECISION  simscore       CONCEPTS  \\\n",
       "0          4A - Crime - [Minimal]     1      True       0.0          Crime   \n",
       "1  4A - Online Piracy - [Minimal]     1      True       0.0  Online Piracy   \n",
       "4      4A - Terrorism - [Minimal]     1      True       0.0      Terrorism   \n",
       "5  4A - Online Piracy - [Minimal]     1      True       0.0  Online Piracy   \n",
       "6  4A - Social Issues - [Minimal]     1      True       0.0  Social Issues   \n",
       "\n",
       "  ZEFR_RISK  SAME_RISK  zefr_expected  predicted  \n",
       "0   Minimal          0              0          1  \n",
       "1   Minimal          0              0          1  \n",
       "4   Minimal          0              0          1  \n",
       "5   Minimal          0              0          1  \n",
       "6   Minimal          0              0          1  "
      ]
     },
     "execution_count": 21,
     "metadata": {},
     "output_type": "execute_result"
    }
   ],
   "source": [
    "df.head()"
   ]
  },
  {
   "cell_type": "code",
   "execution_count": 25,
   "id": "d6ec49b1-24e2-4ff5-8666-4c162c2e3685",
   "metadata": {},
   "outputs": [],
   "source": [
    "df.to_clipboard()"
   ]
  },
  {
   "cell_type": "code",
   "execution_count": 22,
   "id": "25015949-852f-418d-a2cd-37951fde45d7",
   "metadata": {},
   "outputs": [],
   "source": [
    "X = df['zefr_expected']\n",
    "y = df['predicted']"
   ]
  },
  {
   "cell_type": "code",
   "execution_count": 23,
   "id": "1df1e8a4-683d-4617-ac1d-e3315c3df97c",
   "metadata": {},
   "outputs": [
    {
     "name": "stdout",
     "output_type": "stream",
     "text": [
      "[[     0 289283]\n",
      " [     0   9906]]\n"
     ]
    }
   ],
   "source": [
    "from sklearn.metrics import confusion_matrix\n",
    "\n",
    "#Generate the confusion matrix\n",
    "cf_matrix = confusion_matrix(X, y)\n",
    "\n",
    "print(cf_matrix)"
   ]
  },
  {
   "cell_type": "code",
   "execution_count": 24,
   "id": "1f498d42-d7b0-4074-ba70-3315f37921ae",
   "metadata": {},
   "outputs": [
    {
     "data": {
      "image/png": "[encoded data removed]",
      "text/plain": [
       "<Figure size 432x288 with 2 Axes>"
      ]
     },
     "metadata": {
      "needs_background": "light"
     },
     "output_type": "display_data"
    }
   ],
   "source": [
    "import seaborn as sns\n",
    "import numpy as np\n",
    "import matplotlib.pyplot as plt\n",
    "\n",
    "ax = sns.heatmap(cf_matrix/np.sum(cf_matrix), annot=True, \n",
    "            fmt='.2%', cmap='Blues')\n",
    "\n",
    "ax.set_title('Confusion Matrix\\n\\n');\n",
    "ax.set_xlabel('\\nIAS Flags')\n",
    "ax.set_ylabel('ZEFR Actual Flags ');\n",
    "\n",
    "## Ticket labels - List must be in alphabetical order\n",
    "ax.xaxis.set_ticklabels(['False','True'])\n",
    "ax.yaxis.set_ticklabels(['False','True'])\n",
    "\n",
    "## Display the visualization of the Confusion Matrix.\n",
    "plt.show()"
   ]
  },
  {
   "cell_type": "markdown",
   "id": "c4effc76-51ae-4f3a-9350-eab3fd22338d",
   "metadata": {},
   "source": [
    "event = high/floor/medium/low flag <br>\n",
    "no event = minimal flag <br>\n",
    "\n",
    "True Positive = ZEFR-flagged videos, ALSO flagged by IAS <br>\n",
    "False Positive = ZEFR-flagged videos, NOT flagged by IAS <br>\n",
    "True Negative = ZEFR-no flag videos, ALSO not flagged by IAS <br>\n",
    "False Negative = ZEFR-no flag videos, BUT flagged by IAS"
   ]
  },
  {
   "cell_type": "markdown",
   "id": "7134ed8f-ac04-48e4-94af-9f24048f686e",
   "metadata": {},
   "source": [
    "This dataset is where ZEFR_RISK has a flag (incl. minimal) <br>\n",
    "and there is a ZEFR GARM category"
   ]
  },
  {
   "cell_type": "code",
   "execution_count": null,
   "id": "4ae74601-c4ed-41f8-a63c-2bdbea16f459",
   "metadata": {},
   "outputs": [],
   "source": []
  }
 ],
 "metadata": {
  "kernelspec": {
   "display_name": "Python 3",
   "language": "python",
   "name": "python3"
  },
  "language_info": {
   "codemirror_mode": {
    "name": "ipython",
    "version": 3
   },
   "file_extension": ".py",
   "mimetype": "text/x-python",
   "name": "python",
   "nbconvert_exporter": "python",
   "pygments_lexer": "ipython3",
   "version": "3.8.8"
  }
 },
 "nbformat": 4,
 "nbformat_minor": 5
}
