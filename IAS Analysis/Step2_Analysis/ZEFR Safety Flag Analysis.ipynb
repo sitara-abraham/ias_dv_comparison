{
 "cells": [
  {
   "cell_type": "code",
   "execution_count": 1,
   "id": "7d0a1f7a-009a-4bc2-8226-bf97748477dc",
   "metadata": {},
   "outputs": [],
   "source": [
    "import pandas as pd\n",
    "import re"
   ]
  },
  {
   "cell_type": "code",
   "execution_count": 3,
   "id": "1d1fbe61-dc09-4b0b-896f-45dad688e02b",
   "metadata": {},
   "outputs": [],
   "source": [
    "df = pd.read_pickle('../Data/ZEFR_Safety_Flag_Risk_Data.pkl')"
   ]
  },
  {
   "cell_type": "code",
   "execution_count": 4,
   "id": "45188241-3768-4cdb-bb7e-a6668957d07a",
   "metadata": {},
   "outputs": [],
   "source": [
    "#df.columns"
   ]
  },
  {
   "cell_type": "code",
   "execution_count": 4,
   "id": "ef9be999-994c-4302-a007-53369b1c6fe3",
   "metadata": {},
   "outputs": [],
   "source": [
    "df.drop(['vector1','vector2'], axis = 1, inplace = True)"
   ]
  },
  {
   "cell_type": "code",
   "execution_count": 5,
   "id": "edad876e-b0d2-47db-bfb0-4b8d35fac5ca",
   "metadata": {},
   "outputs": [],
   "source": [
    "concepts = []\n",
    "\n",
    "for txt in df['TAXONOMY_NAME']:\n",
    "    if '4A' in txt:\n",
    "        result =  re.search('- (.*) -', txt)\n",
    "        concepts.append(result.group(1))\n",
    "    else:\n",
    "        concepts.append(txt)"
   ]
  },
  {
   "cell_type": "code",
   "execution_count": 6,
   "id": "432047ca-6e89-45ed-b846-fde0f18d6e3e",
   "metadata": {},
   "outputs": [],
   "source": [
    "df['CONCEPTS'] = concepts"
   ]
  },
  {
   "cell_type": "code",
   "execution_count": 7,
   "id": "3525fd46-ff85-4a94-bcc2-e7b14c7645ef",
   "metadata": {},
   "outputs": [],
   "source": [
    "ZEFR_RISK = []\n",
    "\n",
    "for txt in df['TAXONOMY_NAME']:\n",
    "    if 'Minimal' in txt:\n",
    "        ZEFR_RISK.append('Minimal')\n",
    "    elif 'Low' in txt:\n",
    "        ZEFR_RISK.append('Low')\n",
    "    elif 'Medium' in txt:\n",
    "        ZEFR_RISK.append('Medium')\n",
    "    elif 'High' in txt:\n",
    "        ZEFR_RISK.append('High')\n",
    "    else:\n",
    "        ZEFR_RISK.append('No GARM')"
   ]
  },
  {
   "cell_type": "code",
   "execution_count": 8,
   "id": "47893033-7a05-4db3-bbec-e306dcdc9782",
   "metadata": {},
   "outputs": [],
   "source": [
    "df['ZEFR_RISK'] = ZEFR_RISK"
   ]
  },
  {
   "cell_type": "code",
   "execution_count": 9,
   "id": "983a2561-c978-4c85-a0ee-fcc917401498",
   "metadata": {},
   "outputs": [
    {
     "data": {
      "text/html": [
       "<div>\n",
       "<style scoped>\n",
       "    .dataframe tbody tr th:only-of-type {\n",
       "        vertical-align: middle;\n",
       "    }\n",
       "\n",
       "    .dataframe tbody tr th {\n",
       "        vertical-align: top;\n",
       "    }\n",
       "\n",
       "    .dataframe thead th {\n",
       "        text-align: right;\n",
       "    }\n",
       "</style>\n",
       "<table border=\"1\" class=\"dataframe\">\n",
       "  <thead>\n",
       "    <tr style=\"text-align: right;\">\n",
       "      <th></th>\n",
       "      <th>CHANNEL_ID</th>\n",
       "      <th>VIDEO_ID</th>\n",
       "      <th>IAS_CATEGORY</th>\n",
       "      <th>IAS_RISK</th>\n",
       "      <th>TAXONOMY_NAME</th>\n",
       "      <th>SCORE</th>\n",
       "      <th>DECISION</th>\n",
       "      <th>simscore</th>\n",
       "      <th>CONCEPTS</th>\n",
       "      <th>ZEFR_RISK</th>\n",
       "    </tr>\n",
       "  </thead>\n",
       "  <tbody>\n",
       "    <tr>\n",
       "      <th>0</th>\n",
       "      <td>UCYHLd3HtyhRYsD5QMxsjRJA</td>\n",
       "      <td>_25OArlHkYU</td>\n",
       "      <td>Film &amp; Animation</td>\n",
       "      <td>Medium</td>\n",
       "      <td>4A - Crime - [Minimal]</td>\n",
       "      <td>1</td>\n",
       "      <td>True</td>\n",
       "      <td>0.0</td>\n",
       "      <td>Crime</td>\n",
       "      <td>Minimal</td>\n",
       "    </tr>\n",
       "    <tr>\n",
       "      <th>1</th>\n",
       "      <td>UCj1J3QuIftjOq9iv_rr7Egw</td>\n",
       "      <td>zwKnHMwVJ50</td>\n",
       "      <td>Gaming</td>\n",
       "      <td>Medium</td>\n",
       "      <td>4A - Online Piracy - [Minimal]</td>\n",
       "      <td>1</td>\n",
       "      <td>True</td>\n",
       "      <td>0.0</td>\n",
       "      <td>Online Piracy</td>\n",
       "      <td>Minimal</td>\n",
       "    </tr>\n",
       "    <tr>\n",
       "      <th>4</th>\n",
       "      <td>UCvgfXK4nTYKudb0rFR6noLA</td>\n",
       "      <td>rZ5IgMydsT4</td>\n",
       "      <td>Sports</td>\n",
       "      <td>Medium</td>\n",
       "      <td>4A - Terrorism - [Minimal]</td>\n",
       "      <td>1</td>\n",
       "      <td>True</td>\n",
       "      <td>0.0</td>\n",
       "      <td>Terrorism</td>\n",
       "      <td>Minimal</td>\n",
       "    </tr>\n",
       "    <tr>\n",
       "      <th>5</th>\n",
       "      <td>UCLjodVTY_kZzd3cQ7D82DhA</td>\n",
       "      <td>K4wRbQHW1ds</td>\n",
       "      <td>Howto &amp; Style</td>\n",
       "      <td>Medium</td>\n",
       "      <td>4A - Online Piracy - [Minimal]</td>\n",
       "      <td>1</td>\n",
       "      <td>True</td>\n",
       "      <td>0.0</td>\n",
       "      <td>Online Piracy</td>\n",
       "      <td>Minimal</td>\n",
       "    </tr>\n",
       "    <tr>\n",
       "      <th>6</th>\n",
       "      <td>UCdaluuQuE5GoOlULA2PGKmA</td>\n",
       "      <td>zmOMVrzWEXs</td>\n",
       "      <td>Gaming</td>\n",
       "      <td>Medium</td>\n",
       "      <td>4A - Social Issues - [Minimal]</td>\n",
       "      <td>1</td>\n",
       "      <td>True</td>\n",
       "      <td>0.0</td>\n",
       "      <td>Social Issues</td>\n",
       "      <td>Minimal</td>\n",
       "    </tr>\n",
       "  </tbody>\n",
       "</table>\n",
       "</div>"
      ],
      "text/plain": [
       "                  CHANNEL_ID     VIDEO_ID      IAS_CATEGORY IAS_RISK  \\\n",
       "0  UCYHLd3HtyhRYsD5QMxsjRJA   _25OArlHkYU  Film & Animation   Medium   \n",
       "1  UCj1J3QuIftjOq9iv_rr7Egw   zwKnHMwVJ50            Gaming   Medium   \n",
       "4  UCvgfXK4nTYKudb0rFR6noLA   rZ5IgMydsT4            Sports   Medium   \n",
       "5  UCLjodVTY_kZzd3cQ7D82DhA   K4wRbQHW1ds     Howto & Style   Medium   \n",
       "6  UCdaluuQuE5GoOlULA2PGKmA   zmOMVrzWEXs            Gaming   Medium   \n",
       "\n",
       "                    TAXONOMY_NAME SCORE  DECISION  simscore       CONCEPTS  \\\n",
       "0          4A - Crime - [Minimal]     1      True       0.0          Crime   \n",
       "1  4A - Online Piracy - [Minimal]     1      True       0.0  Online Piracy   \n",
       "4      4A - Terrorism - [Minimal]     1      True       0.0      Terrorism   \n",
       "5  4A - Online Piracy - [Minimal]     1      True       0.0  Online Piracy   \n",
       "6  4A - Social Issues - [Minimal]     1      True       0.0  Social Issues   \n",
       "\n",
       "  ZEFR_RISK  \n",
       "0   Minimal  \n",
       "1   Minimal  \n",
       "4   Minimal  \n",
       "5   Minimal  \n",
       "6   Minimal  "
      ]
     },
     "execution_count": 9,
     "metadata": {},
     "output_type": "execute_result"
    }
   ],
   "source": [
    "df.head()"
   ]
  },
  {
   "cell_type": "code",
   "execution_count": 10,
   "id": "a4ad7a35-df85-4f10-a373-93df5b21e036",
   "metadata": {},
   "outputs": [],
   "source": [
    "same_risk = []\n",
    "\n",
    "for i,v in enumerate(df['TAXONOMY_NAME']):\n",
    "    if 'Minimal' in df['IAS_RISK'].iloc[i] and 'Minimal' in v:\n",
    "        same_risk.append(1)\n",
    "    elif 'Low' in df['IAS_RISK'].iloc[i] and 'Low' in v:\n",
    "        same_risk.append(1)  \n",
    "    elif 'Medium' in df['IAS_RISK'].iloc[i] and 'Medium' in v:\n",
    "        same_risk.append(1) \n",
    "    elif 'High' in df['IAS_RISK'].iloc[i] and 'High' in v or 'Floor' in v:\n",
    "        same_risk.append(1) \n",
    "    else:\n",
    "        same_risk.append(0)\n",
    "    "
   ]
  },
  {
   "cell_type": "code",
   "execution_count": 11,
   "id": "421f4365-81f8-4cad-86af-e161ba029ac2",
   "metadata": {},
   "outputs": [],
   "source": [
    "df['SAME_RISK'] = same_risk"
   ]
  },
  {
   "cell_type": "code",
   "execution_count": 12,
   "id": "b274b11f-e8cf-4bb4-8b38-a64680ab3a41",
   "metadata": {},
   "outputs": [],
   "source": [
    "df.to_clipboard()"
   ]
  },
  {
   "cell_type": "code",
   "execution_count": 13,
   "id": "953657e2-d3a5-4d4a-9c41-f6417309e76b",
   "metadata": {},
   "outputs": [
    {
     "data": {
      "text/html": [
       "<div>\n",
       "<style scoped>\n",
       "    .dataframe tbody tr th:only-of-type {\n",
       "        vertical-align: middle;\n",
       "    }\n",
       "\n",
       "    .dataframe tbody tr th {\n",
       "        vertical-align: top;\n",
       "    }\n",
       "\n",
       "    .dataframe thead th {\n",
       "        text-align: right;\n",
       "    }\n",
       "</style>\n",
       "<table border=\"1\" class=\"dataframe\">\n",
       "  <thead>\n",
       "    <tr style=\"text-align: right;\">\n",
       "      <th></th>\n",
       "      <th>CHANNEL_ID</th>\n",
       "      <th>VIDEO_ID</th>\n",
       "      <th>IAS_CATEGORY</th>\n",
       "      <th>IAS_RISK</th>\n",
       "      <th>TAXONOMY_NAME</th>\n",
       "      <th>SCORE</th>\n",
       "      <th>DECISION</th>\n",
       "      <th>simscore</th>\n",
       "      <th>CONCEPTS</th>\n",
       "      <th>ZEFR_RISK</th>\n",
       "      <th>SAME_RISK</th>\n",
       "    </tr>\n",
       "  </thead>\n",
       "  <tbody>\n",
       "    <tr>\n",
       "      <th>6</th>\n",
       "      <td>UC4jjDHIjC-U4I6XdbyIZoTg</td>\n",
       "      <td>pquwLeG6dw4</td>\n",
       "      <td>Entertainment</td>\n",
       "      <td>High</td>\n",
       "      <td>Music - V1</td>\n",
       "      <td>0.72488874</td>\n",
       "      <td>True</td>\n",
       "      <td>0.0</td>\n",
       "      <td>Music - V1</td>\n",
       "      <td>No GARM</td>\n",
       "      <td>0</td>\n",
       "    </tr>\n",
       "    <tr>\n",
       "      <th>7</th>\n",
       "      <td>UC4jjDHIjC-U4I6XdbyIZoTg</td>\n",
       "      <td>pquwLeG6dw4</td>\n",
       "      <td>Entertainment</td>\n",
       "      <td>High</td>\n",
       "      <td>Music - V1</td>\n",
       "      <td>0.72488874</td>\n",
       "      <td>True</td>\n",
       "      <td>0.0</td>\n",
       "      <td>Music - V1</td>\n",
       "      <td>No GARM</td>\n",
       "      <td>0</td>\n",
       "    </tr>\n",
       "    <tr>\n",
       "      <th>8</th>\n",
       "      <td>UCuTaETsuCOkJ0H_GAztWt0Q</td>\n",
       "      <td>nmPgJV643h8</td>\n",
       "      <td>Sports</td>\n",
       "      <td>Medium</td>\n",
       "      <td>4A - Adult Content - [Low]</td>\n",
       "      <td>1</td>\n",
       "      <td>True</td>\n",
       "      <td>0.0</td>\n",
       "      <td>Adult Content</td>\n",
       "      <td>Low</td>\n",
       "      <td>0</td>\n",
       "    </tr>\n",
       "    <tr>\n",
       "      <th>13</th>\n",
       "      <td>UCxmkHW42679-8rLTAsRyIgA</td>\n",
       "      <td>Unbhs-lYE8A</td>\n",
       "      <td>Music</td>\n",
       "      <td>Medium</td>\n",
       "      <td>English - V1</td>\n",
       "      <td>0.92772835</td>\n",
       "      <td>True</td>\n",
       "      <td>0.0</td>\n",
       "      <td>English - V1</td>\n",
       "      <td>No GARM</td>\n",
       "      <td>0</td>\n",
       "    </tr>\n",
       "    <tr>\n",
       "      <th>14</th>\n",
       "      <td>UCxmkHW42679-8rLTAsRyIgA</td>\n",
       "      <td>Unbhs-lYE8A</td>\n",
       "      <td>Music</td>\n",
       "      <td>Medium</td>\n",
       "      <td>English - V1</td>\n",
       "      <td>0.92772835</td>\n",
       "      <td>True</td>\n",
       "      <td>0.0</td>\n",
       "      <td>English - V1</td>\n",
       "      <td>No GARM</td>\n",
       "      <td>0</td>\n",
       "    </tr>\n",
       "  </tbody>\n",
       "</table>\n",
       "</div>"
      ],
      "text/plain": [
       "                   CHANNEL_ID     VIDEO_ID   IAS_CATEGORY IAS_RISK  \\\n",
       "6   UC4jjDHIjC-U4I6XdbyIZoTg   pquwLeG6dw4  Entertainment     High   \n",
       "7   UC4jjDHIjC-U4I6XdbyIZoTg   pquwLeG6dw4  Entertainment     High   \n",
       "8   UCuTaETsuCOkJ0H_GAztWt0Q   nmPgJV643h8         Sports   Medium   \n",
       "13  UCxmkHW42679-8rLTAsRyIgA   Unbhs-lYE8A          Music   Medium   \n",
       "14  UCxmkHW42679-8rLTAsRyIgA   Unbhs-lYE8A          Music   Medium   \n",
       "\n",
       "                 TAXONOMY_NAME       SCORE  DECISION  simscore       CONCEPTS  \\\n",
       "6                   Music - V1  0.72488874      True       0.0     Music - V1   \n",
       "7                   Music - V1  0.72488874      True       0.0     Music - V1   \n",
       "8   4A - Adult Content - [Low]           1      True       0.0  Adult Content   \n",
       "13                English - V1  0.92772835      True       0.0   English - V1   \n",
       "14                English - V1  0.92772835      True       0.0   English - V1   \n",
       "\n",
       "   ZEFR_RISK  SAME_RISK  \n",
       "6    No GARM          0  \n",
       "7    No GARM          0  \n",
       "8        Low          0  \n",
       "13   No GARM          0  \n",
       "14   No GARM          0  "
      ]
     },
     "execution_count": 13,
     "metadata": {},
     "output_type": "execute_result"
    }
   ],
   "source": [
    "df.head()"
   ]
  },
  {
   "cell_type": "code",
   "execution_count": 16,
   "id": "a34f5fc4-3656-40ac-9751-8387b2eb2be8",
   "metadata": {},
   "outputs": [
    {
     "data": {
      "text/plain": [
       "(372, 11)"
      ]
     },
     "execution_count": 16,
     "metadata": {},
     "output_type": "execute_result"
    }
   ],
   "source": [
    "df[df['ZEFR_RISK']=='High'].shape"
   ]
  },
  {
   "cell_type": "code",
   "execution_count": null,
   "id": "83f78e6c-45d9-4850-a6bd-4e9c7c93de15",
   "metadata": {},
   "outputs": [],
   "source": []
  }
 ],
 "metadata": {
  "kernelspec": {
   "display_name": "Python 3",
   "language": "python",
   "name": "python3"
  },
  "language_info": {
   "codemirror_mode": {
    "name": "ipython",
    "version": 3
   },
   "file_extension": ".py",
   "mimetype": "text/x-python",
   "name": "python",
   "nbconvert_exporter": "python",
   "pygments_lexer": "ipython3",
   "version": "3.8.8"
  }
 },
 "nbformat": 4,
 "nbformat_minor": 5
}
