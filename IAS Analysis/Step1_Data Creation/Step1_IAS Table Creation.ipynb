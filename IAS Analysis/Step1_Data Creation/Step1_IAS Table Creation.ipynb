{
 "cells": [
  {
   "cell_type": "code",
   "execution_count": 2,
   "id": "5751b356-4f11-4807-b88c-81a4c12cf29c",
   "metadata": {},
   "outputs": [],
   "source": [
    "import pandas as pd\n",
    "from contextlib import closing\n",
    "import json\n",
    "import pandas as pd\n",
    "import re\n",
    "import requests\n",
    "import snowflake.connector\n",
    "import time\n",
    "from snowflake.connector.pandas_tools import write_pandas"
   ]
  },
  {
   "cell_type": "code",
   "execution_count": 3,
   "id": "6805276a-ddce-4810-9965-17c396433dad",
   "metadata": {},
   "outputs": [],
   "source": [
    "df = pd.read_excel(\"ias_q1.xlsx\", sheet_name = 0)"
   ]
  },
  {
   "cell_type": "code",
   "execution_count": 4,
   "id": "699ca595-b75c-4256-b7bd-05b0a2b03c41",
   "metadata": {},
   "outputs": [
    {
     "data": {
      "text/html": [
       "<div>\n",
       "<style scoped>\n",
       "    .dataframe tbody tr th:only-of-type {\n",
       "        vertical-align: middle;\n",
       "    }\n",
       "\n",
       "    .dataframe tbody tr th {\n",
       "        vertical-align: top;\n",
       "    }\n",
       "\n",
       "    .dataframe thead th {\n",
       "        text-align: right;\n",
       "    }\n",
       "</style>\n",
       "<table border=\"1\" class=\"dataframe\">\n",
       "  <thead>\n",
       "    <tr style=\"text-align: right;\">\n",
       "      <th></th>\n",
       "      <th>VIDEO_ID</th>\n",
       "      <th>CHANNEL_ID</th>\n",
       "      <th>VIDEO_CATEGORY</th>\n",
       "      <th>RISK_TIER</th>\n",
       "      <th>ZEFR_MAPPING</th>\n",
       "    </tr>\n",
       "  </thead>\n",
       "  <tbody>\n",
       "    <tr>\n",
       "      <th>0</th>\n",
       "      <td>xr9GGusfrW4</td>\n",
       "      <td>UCpB959t8iPrxQWj7G6n0ctQ</td>\n",
       "      <td>Entertainment</td>\n",
       "      <td>moderate</td>\n",
       "      <td>NaN</td>\n",
       "    </tr>\n",
       "    <tr>\n",
       "      <th>1</th>\n",
       "      <td>ptvqJBL4ljA</td>\n",
       "      <td>UCl6UMZgAD7EDCNTB8Y-ICiQ</td>\n",
       "      <td>Education</td>\n",
       "      <td>moderate</td>\n",
       "      <td>NaN</td>\n",
       "    </tr>\n",
       "    <tr>\n",
       "      <th>2</th>\n",
       "      <td>_-3v1MonI54</td>\n",
       "      <td>UCNIFiHaLZkYASaWDdkC1njg</td>\n",
       "      <td>Entertainment</td>\n",
       "      <td>moderate</td>\n",
       "      <td>NaN</td>\n",
       "    </tr>\n",
       "    <tr>\n",
       "      <th>3</th>\n",
       "      <td>kPg3M4C9N9w</td>\n",
       "      <td>UCmBA_wu8xGg1OfOkfW13Q0Q</td>\n",
       "      <td>Music</td>\n",
       "      <td>moderate</td>\n",
       "      <td>NaN</td>\n",
       "    </tr>\n",
       "    <tr>\n",
       "      <th>4</th>\n",
       "      <td>ws00k_lIQ9U</td>\n",
       "      <td>UCmBA_wu8xGg1OfOkfW13Q0Q</td>\n",
       "      <td>Music</td>\n",
       "      <td>moderate</td>\n",
       "      <td>NaN</td>\n",
       "    </tr>\n",
       "  </tbody>\n",
       "</table>\n",
       "</div>"
      ],
      "text/plain": [
       "      VIDEO_ID                 CHANNEL_ID VIDEO_CATEGORY RISK_TIER  \\\n",
       "0  xr9GGusfrW4  UCpB959t8iPrxQWj7G6n0ctQ   Entertainment  moderate   \n",
       "1  ptvqJBL4ljA  UCl6UMZgAD7EDCNTB8Y-ICiQ       Education  moderate   \n",
       "2  _-3v1MonI54  UCNIFiHaLZkYASaWDdkC1njg   Entertainment  moderate   \n",
       "3  kPg3M4C9N9w  UCmBA_wu8xGg1OfOkfW13Q0Q           Music  moderate   \n",
       "4  ws00k_lIQ9U  UCmBA_wu8xGg1OfOkfW13Q0Q           Music  moderate   \n",
       "\n",
       "  ZEFR_MAPPING  \n",
       "0          NaN  \n",
       "1          NaN  \n",
       "2          NaN  \n",
       "3          NaN  \n",
       "4          NaN  "
      ]
     },
     "execution_count": 4,
     "metadata": {},
     "output_type": "execute_result"
    }
   ],
   "source": [
    "df.head()"
   ]
  },
  {
   "cell_type": "code",
   "execution_count": 5,
   "id": "1cd8f9af-2dab-45a4-ab25-f4a3c21e1d7a",
   "metadata": {},
   "outputs": [],
   "source": [
    "df1 = df[['VIDEO_ID', 'CHANNEL_ID', 'VIDEO_CATEGORY', 'RISK_TIER']]"
   ]
  },
  {
   "cell_type": "code",
   "execution_count": 7,
   "id": "363ccdd7-55da-4cc0-9eb2-455ef8b653b0",
   "metadata": {},
   "outputs": [
    {
     "data": {
      "text/plain": [
       "array(['moderate', 'high risk'], dtype=object)"
      ]
     },
     "execution_count": 7,
     "metadata": {},
     "output_type": "execute_result"
    }
   ],
   "source": [
    "df1['RISK_TIER'].unique()"
   ]
  },
  {
   "cell_type": "code",
   "execution_count": 8,
   "id": "4232c336-5198-41a0-ae55-a948e142c47e",
   "metadata": {},
   "outputs": [],
   "source": [
    "IAS_RISK = []\n",
    "\n",
    "for i in df1['RISK_TIER']:\n",
    "    if i == 'moderate':\n",
    "        IAS_RISK.append('Medium')\n",
    "    else:\n",
    "        IAS_RISK.append('High')"
   ]
  },
  {
   "cell_type": "code",
   "execution_count": 9,
   "id": "3be1272e-0074-46db-9702-069761b26290",
   "metadata": {},
   "outputs": [],
   "source": [
    "df1['IAS_RISK'] = IAS_RISK"
   ]
  },
  {
   "cell_type": "code",
   "execution_count": 10,
   "id": "13243b8f-155c-4f24-8ac9-94e0635a9cdd",
   "metadata": {},
   "outputs": [],
   "source": [
    "df2 = df1[['VIDEO_ID', 'CHANNEL_ID', 'VIDEO_CATEGORY', 'IAS_RISK']]"
   ]
  },
  {
   "cell_type": "code",
   "execution_count": 15,
   "id": "ee833129-9e1e-4f62-8e7e-c6d83e3a317c",
   "metadata": {},
   "outputs": [
    {
     "data": {
      "text/html": [
       "<div>\n",
       "<style scoped>\n",
       "    .dataframe tbody tr th:only-of-type {\n",
       "        vertical-align: middle;\n",
       "    }\n",
       "\n",
       "    .dataframe tbody tr th {\n",
       "        vertical-align: top;\n",
       "    }\n",
       "\n",
       "    .dataframe thead th {\n",
       "        text-align: right;\n",
       "    }\n",
       "</style>\n",
       "<table border=\"1\" class=\"dataframe\">\n",
       "  <thead>\n",
       "    <tr style=\"text-align: right;\">\n",
       "      <th></th>\n",
       "      <th>VIDEO_ID</th>\n",
       "      <th>CHANNEL_ID</th>\n",
       "      <th>VIDEO_CATEGORY</th>\n",
       "      <th>IAS_RISK</th>\n",
       "    </tr>\n",
       "  </thead>\n",
       "  <tbody>\n",
       "    <tr>\n",
       "      <th>0</th>\n",
       "      <td>xr9GGusfrW4</td>\n",
       "      <td>UCpB959t8iPrxQWj7G6n0ctQ</td>\n",
       "      <td>Entertainment</td>\n",
       "      <td>Medium</td>\n",
       "    </tr>\n",
       "    <tr>\n",
       "      <th>1</th>\n",
       "      <td>ptvqJBL4ljA</td>\n",
       "      <td>UCl6UMZgAD7EDCNTB8Y-ICiQ</td>\n",
       "      <td>Education</td>\n",
       "      <td>Medium</td>\n",
       "    </tr>\n",
       "    <tr>\n",
       "      <th>2</th>\n",
       "      <td>_-3v1MonI54</td>\n",
       "      <td>UCNIFiHaLZkYASaWDdkC1njg</td>\n",
       "      <td>Entertainment</td>\n",
       "      <td>Medium</td>\n",
       "    </tr>\n",
       "    <tr>\n",
       "      <th>3</th>\n",
       "      <td>kPg3M4C9N9w</td>\n",
       "      <td>UCmBA_wu8xGg1OfOkfW13Q0Q</td>\n",
       "      <td>Music</td>\n",
       "      <td>Medium</td>\n",
       "    </tr>\n",
       "    <tr>\n",
       "      <th>4</th>\n",
       "      <td>ws00k_lIQ9U</td>\n",
       "      <td>UCmBA_wu8xGg1OfOkfW13Q0Q</td>\n",
       "      <td>Music</td>\n",
       "      <td>Medium</td>\n",
       "    </tr>\n",
       "  </tbody>\n",
       "</table>\n",
       "</div>"
      ],
      "text/plain": [
       "      VIDEO_ID                 CHANNEL_ID VIDEO_CATEGORY IAS_RISK\n",
       "0  xr9GGusfrW4  UCpB959t8iPrxQWj7G6n0ctQ   Entertainment   Medium\n",
       "1  ptvqJBL4ljA  UCl6UMZgAD7EDCNTB8Y-ICiQ       Education   Medium\n",
       "2  _-3v1MonI54  UCNIFiHaLZkYASaWDdkC1njg   Entertainment   Medium\n",
       "3  kPg3M4C9N9w  UCmBA_wu8xGg1OfOkfW13Q0Q           Music   Medium\n",
       "4  ws00k_lIQ9U  UCmBA_wu8xGg1OfOkfW13Q0Q           Music   Medium"
      ]
     },
     "execution_count": 15,
     "metadata": {},
     "output_type": "execute_result"
    }
   ],
   "source": [
    "df2.head()"
   ]
  },
  {
   "cell_type": "code",
   "execution_count": 11,
   "id": "b0834278-a08a-433a-a830-ea447deac535",
   "metadata": {},
   "outputs": [],
   "source": [
    "import snowflake.connector\n",
    "from snowflake.connector.pandas_tools import write_pandas\n",
    "from snowflake.sqlalchemy import URL\n",
    "from sqlalchemy import create_engine\n",
    "from snowflake.connector.pandas_tools import pd_writer"
   ]
  },
  {
   "cell_type": "code",
   "execution_count": 12,
   "id": "2c2a0dbf-04be-497e-b18d-046d2276b604",
   "metadata": {},
   "outputs": [],
   "source": [
    "table_name = 'IAS_Q122'\n",
    "schema = 'ANALYST'"
   ]
  },
  {
   "cell_type": "code",
   "execution_count": 13,
   "id": "041afb54-02c1-44a3-bb59-6daee4228974",
   "metadata": {},
   "outputs": [],
   "source": [
    "def connection(schema):\n",
    "    conn = snowflake.connector.connect(\n",
    "        host=\"localhost\",\n",
    "        port=\"10015\",\n",
    "        user=\"sdm\",\n",
    "        password=\"sdm\",\n",
    "        account=\"dummy\",\n",
    "        protocol=\"http\",\n",
    "        warehouse=\"ENGINEER_WH\",\n",
    "        database=\"PROD\",\n",
    "        schema=schema,\n",
    "    )\n",
    "    return conn"
   ]
  },
  {
   "cell_type": "code",
   "execution_count": 14,
   "id": "a208331f-bf6e-495b-8fff-7ca4a4af262f",
   "metadata": {},
   "outputs": [],
   "source": [
    "def write_snowflake(schema,df,table_name):\n",
    "    conn = connection(schema)\n",
    "    success, nchunks, nrows, _ = write_pandas(conn, df, table_name, chunk_size = 1000)\n",
    "    \n",
    "    return success, nchunks, nrows, _"
   ]
  },
  {
   "cell_type": "code",
   "execution_count": 16,
   "id": "5510d8d1-a372-461e-baa7-55538af213e7",
   "metadata": {},
   "outputs": [],
   "source": [
    "success, nchunks, nrows, _ = write_snowflake(schema, df2, table_name)"
   ]
  },
  {
   "cell_type": "code",
   "execution_count": null,
   "id": "e14a37fc-da3e-45da-aa1a-067b766829ee",
   "metadata": {},
   "outputs": [],
   "source": []
  }
 ],
 "metadata": {
  "kernelspec": {
   "display_name": "Python 3",
   "language": "python",
   "name": "python3"
  },
  "language_info": {
   "codemirror_mode": {
    "name": "ipython",
    "version": 3
   },
   "file_extension": ".py",
   "mimetype": "text/x-python",
   "name": "python",
   "nbconvert_exporter": "python",
   "pygments_lexer": "ipython3",
   "version": "3.8.8"
  }
 },
 "nbformat": 4,
 "nbformat_minor": 5
}
