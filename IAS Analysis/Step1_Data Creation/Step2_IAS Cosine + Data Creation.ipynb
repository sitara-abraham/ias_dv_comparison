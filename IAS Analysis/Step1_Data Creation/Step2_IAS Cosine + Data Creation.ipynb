{
 "cells": [
  {
   "cell_type": "code",
   "execution_count": 1,
   "id": "d084e0d1-0953-49fc-b0e2-cfb6d9ded986",
   "metadata": {},
   "outputs": [],
   "source": [
    "from contextlib import closing\n",
    "import json\n",
    "import pandas as pd\n",
    "import re\n",
    "import requests\n",
    "import snowflake.connector\n",
    "import time"
   ]
  },
  {
   "cell_type": "code",
   "execution_count": 2,
   "id": "dc7a4f3f-7292-4635-ac4d-172504738a57",
   "metadata": {},
   "outputs": [],
   "source": [
    "schema = 'ANALYST'"
   ]
  },
  {
   "cell_type": "code",
   "execution_count": 3,
   "id": "fb9f9273-26cb-4d8e-8081-b4f19f390c8e",
   "metadata": {},
   "outputs": [],
   "source": [
    "sql = \"\"\"\n",
    "        SELECT I.CHANNEL_ID, I.VIDEO_ID, I.VIDEO_CATEGORY AS IAS_CATEGORY, I.IAS_RISK, S.TAXONOMY_NAME, \n",
    "        S.SCORE, S.DECISION\n",
    "        FROM prod.ANALYST.IAS_Q122 I\n",
    "        JOIN prod.REPORTING.LATEST_SCORES AS S \n",
    "            ON I.VIDEO_ID = S.CONTENT_ID \n",
    "        WHERE decision \n",
    "        \"\"\""
   ]
  },
  {
   "cell_type": "code",
   "execution_count": 4,
   "id": "75f18138-2cd6-48eb-a537-eacfdf54175a",
   "metadata": {},
   "outputs": [],
   "source": [
    "def connection(schema):\n",
    "    conn = snowflake.connector.connect(\n",
    "        host=\"localhost\",\n",
    "        port=\"10015\",\n",
    "        user=\"sdm\",\n",
    "        password=\"sdm\",\n",
    "        account=\"dummy\",\n",
    "        protocol=\"http\",\n",
    "        warehouse=\"ENGINEER_WH\",\n",
    "        database=\"PROD\",\n",
    "        schema=schema,\n",
    "    )\n",
    "    return conn"
   ]
  },
  {
   "cell_type": "code",
   "execution_count": 5,
   "id": "e86aa63d-ed2e-4ba5-a05b-06f4ba86dfa3",
   "metadata": {},
   "outputs": [],
   "source": [
    "def get_results(sql):\n",
    "    conn = connection(schema)\n",
    "    with closing(conn.cursor()) as cursor:\n",
    "        results = conn.cursor().execute(sql)\n",
    "        \n",
    "    # Fetch the result set from the cursor and deliver it as the Pandas DataFrame.\n",
    "    df = results.fetch_pandas_all()\n",
    "    return df"
   ]
  },
  {
   "cell_type": "code",
   "execution_count": 6,
   "id": "db869428-b575-4aa2-896d-e0ced6d2adc7",
   "metadata": {},
   "outputs": [],
   "source": [
    "df = get_results(sql)"
   ]
  },
  {
   "cell_type": "code",
   "execution_count": 7,
   "id": "32dc8b2c-c7c1-4451-a201-73b68eda7304",
   "metadata": {},
   "outputs": [
    {
     "data": {
      "text/html": [
       "<div>\n",
       "<style scoped>\n",
       "    .dataframe tbody tr th:only-of-type {\n",
       "        vertical-align: middle;\n",
       "    }\n",
       "\n",
       "    .dataframe tbody tr th {\n",
       "        vertical-align: top;\n",
       "    }\n",
       "\n",
       "    .dataframe thead th {\n",
       "        text-align: right;\n",
       "    }\n",
       "</style>\n",
       "<table border=\"1\" class=\"dataframe\">\n",
       "  <thead>\n",
       "    <tr style=\"text-align: right;\">\n",
       "      <th></th>\n",
       "      <th>CHANNEL_ID</th>\n",
       "      <th>VIDEO_ID</th>\n",
       "      <th>IAS_CATEGORY</th>\n",
       "      <th>IAS_RISK</th>\n",
       "      <th>TAXONOMY_NAME</th>\n",
       "      <th>SCORE</th>\n",
       "      <th>DECISION</th>\n",
       "    </tr>\n",
       "  </thead>\n",
       "  <tbody>\n",
       "    <tr>\n",
       "      <th>0</th>\n",
       "      <td>UCYHLd3HtyhRYsD5QMxsjRJA</td>\n",
       "      <td>_25OArlHkYU</td>\n",
       "      <td>Film &amp; Animation</td>\n",
       "      <td>Medium</td>\n",
       "      <td>4A - Crime - [Minimal]</td>\n",
       "      <td>1</td>\n",
       "      <td>True</td>\n",
       "    </tr>\n",
       "    <tr>\n",
       "      <th>1</th>\n",
       "      <td>UCj1J3QuIftjOq9iv_rr7Egw</td>\n",
       "      <td>zwKnHMwVJ50</td>\n",
       "      <td>Gaming</td>\n",
       "      <td>Medium</td>\n",
       "      <td>4A - Online Piracy - [Minimal]</td>\n",
       "      <td>1</td>\n",
       "      <td>True</td>\n",
       "    </tr>\n",
       "    <tr>\n",
       "      <th>2</th>\n",
       "      <td>UCRZamIB-DWuVPJuc0bKhwzg</td>\n",
       "      <td>3rB3HI9_MDA</td>\n",
       "      <td>Education</td>\n",
       "      <td>Medium</td>\n",
       "      <td>Japanese Brand Safety - V1</td>\n",
       "      <td>0.16567236</td>\n",
       "      <td>True</td>\n",
       "    </tr>\n",
       "    <tr>\n",
       "      <th>3</th>\n",
       "      <td>UCEth8Mr49WNJNdtn7Dy3rqA</td>\n",
       "      <td>vMU2sKAe0FY</td>\n",
       "      <td>People &amp; Blogs</td>\n",
       "      <td>Medium</td>\n",
       "      <td>English - V1</td>\n",
       "      <td>0.9405212</td>\n",
       "      <td>True</td>\n",
       "    </tr>\n",
       "    <tr>\n",
       "      <th>4</th>\n",
       "      <td>UCvgfXK4nTYKudb0rFR6noLA</td>\n",
       "      <td>rZ5IgMydsT4</td>\n",
       "      <td>Sports</td>\n",
       "      <td>Medium</td>\n",
       "      <td>4A - Terrorism - [Minimal]</td>\n",
       "      <td>1</td>\n",
       "      <td>True</td>\n",
       "    </tr>\n",
       "  </tbody>\n",
       "</table>\n",
       "</div>"
      ],
      "text/plain": [
       "                  CHANNEL_ID     VIDEO_ID      IAS_CATEGORY IAS_RISK  \\\n",
       "0  UCYHLd3HtyhRYsD5QMxsjRJA   _25OArlHkYU  Film & Animation   Medium   \n",
       "1  UCj1J3QuIftjOq9iv_rr7Egw   zwKnHMwVJ50            Gaming   Medium   \n",
       "2  UCRZamIB-DWuVPJuc0bKhwzg   3rB3HI9_MDA         Education   Medium   \n",
       "3  UCEth8Mr49WNJNdtn7Dy3rqA   vMU2sKAe0FY    People & Blogs   Medium   \n",
       "4  UCvgfXK4nTYKudb0rFR6noLA   rZ5IgMydsT4            Sports   Medium   \n",
       "\n",
       "                    TAXONOMY_NAME       SCORE  DECISION  \n",
       "0          4A - Crime - [Minimal]           1      True  \n",
       "1  4A - Online Piracy - [Minimal]           1      True  \n",
       "2      Japanese Brand Safety - V1  0.16567236      True  \n",
       "3                    English - V1   0.9405212      True  \n",
       "4      4A - Terrorism - [Minimal]           1      True  "
      ]
     },
     "execution_count": 7,
     "metadata": {},
     "output_type": "execute_result"
    }
   ],
   "source": [
    "df.head()"
   ]
  },
  {
   "cell_type": "code",
   "execution_count": 8,
   "id": "3462006d-dc21-497e-8f44-2df395636e82",
   "metadata": {},
   "outputs": [],
   "source": [
    "import math\n",
    "import re\n",
    "from collections import Counter\n",
    "import pandas as pd\n",
    "\n",
    "WORD = re.compile(r\"\\w+\")\n",
    "\n",
    "\n",
    "def get_cosine(vec1, vec2):\n",
    "    intersection = set(vec1.keys()) & set(vec2.keys())\n",
    "    numerator = sum([vec1[x] * vec2[x] for x in intersection])\n",
    "\n",
    "    sum1 = sum([vec1[x] ** 2 for x in list(vec1.keys())])\n",
    "    sum2 = sum([vec2[x] ** 2 for x in list(vec2.keys())])\n",
    "    denominator = math.sqrt(sum1) * math.sqrt(sum2)\n",
    "\n",
    "    if not denominator:\n",
    "        return 0.0\n",
    "    else:\n",
    "        return float(numerator) / denominator\n",
    "\n",
    "\n",
    "def text_to_vector(text):\n",
    "    words = WORD.findall(text)\n",
    "    return Counter(words)"
   ]
  },
  {
   "cell_type": "code",
   "execution_count": 9,
   "id": "0c77da26-7f84-4a72-be0b-d472389fbf43",
   "metadata": {},
   "outputs": [],
   "source": [
    "\n",
    "    df['vector1']=df['IAS_CATEGORY'].apply(lambda x: text_to_vector(x)) \n",
    "    df['vector2']=df['TAXONOMY_NAME'].apply(lambda x: text_to_vector(x)) \n",
    "    df['simscore']=df.apply(lambda x: get_cosine(x['vector1'],x['vector2']),axis=1)"
   ]
  },
  {
   "cell_type": "code",
   "execution_count": 13,
   "id": "5398114a-51ab-4b8a-a840-d4339c5932fe",
   "metadata": {},
   "outputs": [],
   "source": [
    "#dataframe where IAS has a safety category\n",
    "\n",
    "ias_safety_flag = df[df['IAS_RISK'] == 'High']\n",
    "ias_safety_flag.to_pickle('IAS_Safety_Flag_Risk_Data.pkl')"
   ]
  },
  {
   "cell_type": "code",
   "execution_count": 10,
   "id": "d0466ebe-f8d3-43fd-bbf8-f8c41a9b02ad",
   "metadata": {},
   "outputs": [],
   "source": [
    "#dataframe where zefr has a safety category\n",
    "\n",
    "zefr_safety_flag = df[df['TAXONOMY_NAME'].str.contains(\"4A\")]\n",
    "zefr_safety_flag.to_pickle('ZEFR_Safety_Flag_Risk_Data.pkl')"
   ]
  },
  {
   "cell_type": "code",
   "execution_count": 15,
   "id": "acea5cc7-952a-4ca1-9ed9-bc615d3bbc15",
   "metadata": {},
   "outputs": [],
   "source": [
    "#dataframe where DV and zefr have similar concept categories\n",
    "\n",
    "dv_zefr_similar_concepts = df[df['simscore']>0.5]\n",
    "dv_zefr_similar_concepts.to_pickle('DV_Zefr_SimilarConcept_Risk_Data.pkl')"
   ]
  },
  {
   "cell_type": "code",
   "execution_count": null,
   "id": "1b723a94-43e1-492f-b75f-c326cb3e2d99",
   "metadata": {},
   "outputs": [],
   "source": []
  }
 ],
 "metadata": {
  "kernelspec": {
   "display_name": "Python 3",
   "language": "python",
   "name": "python3"
  },
  "language_info": {
   "codemirror_mode": {
    "name": "ipython",
    "version": 3
   },
   "file_extension": ".py",
   "mimetype": "text/x-python",
   "name": "python",
   "nbconvert_exporter": "python",
   "pygments_lexer": "ipython3",
   "version": "3.8.8"
  }
 },
 "nbformat": 4,
 "nbformat_minor": 5
}
